{
 "cells": [
  {
   "cell_type": "code",
   "execution_count": 1,
   "metadata": {
    "ExecuteTime": {
     "end_time": "2024-07-07T13:06:29.501518Z",
     "start_time": "2024-07-07T13:06:29.494929Z"
    }
   },
   "outputs": [],
   "source": [
    "import pandas as pd\n",
    "import matplotlib.pyplot as plt\n",
    "import seaborn as sns"
   ]
  },
  {
   "cell_type": "code",
   "execution_count": 7,
   "metadata": {
    "ExecuteTime": {
     "end_time": "2024-07-07T13:09:12.162930Z",
     "start_time": "2024-07-07T13:09:07.252682Z"
    }
   },
   "outputs": [],
   "source": [
    "data = pd.read_csv('../data/games_may2024_cleaned.csv')"
   ]
  },
  {
   "cell_type": "code",
   "execution_count": 8,
   "metadata": {
    "ExecuteTime": {
     "end_time": "2024-07-07T13:09:14.796831Z",
     "start_time": "2024-07-07T13:09:14.780757Z"
    }
   },
   "outputs": [
    {
     "data": {
      "text/plain": "    AppID                             name release_date  required_age  price  \\\n0     730                 Counter-Strike 2   2012-08-21             0   0.00   \n1  578080              PUBG: BATTLEGROUNDS   2017-12-21             0   0.00   \n2     570                           Dota 2   2013-07-09             0   0.00   \n3  271590               Grand Theft Auto V   2015-04-13            17   0.00   \n4  359550  Tom Clancy's Rainbow Six® Siege   2015-12-01            17  19.99   \n\n   dlc_count                               detailed_description  \\\n0          1  For over two decades, Counter-Strike has offer...   \n1          0  LAND, LOOT, SURVIVE! Play PUBG: BATTLEGROUNDS ...   \n2          2  The most-played game on Steam. Every day, mill...   \n3          1  When a young street hustler, a retired bank ro...   \n4          9  Edition Comparison Ultimate Edition The Tom Cl...   \n\n                                      about_the_game  \\\n0  For over two decades, Counter-Strike has offer...   \n1  LAND, LOOT, SURVIVE! Play PUBG: BATTLEGROUNDS ...   \n2  The most-played game on Steam. Every day, mill...   \n3  When a young street hustler, a retired bank ro...   \n4  “One of the best first-person shooters ever ma...   \n\n                                   short_description  \\\n0  For over two decades, Counter-Strike has offer...   \n1  Play PUBG: BATTLEGROUNDS for free. Land on str...   \n2  Every day, millions of players worldwide enter...   \n3  Grand Theft Auto V for PC offers players the o...   \n4  Tom Clancy's Rainbow Six® Siege is an elite, t...   \n\n                                             reviews  ...  \\\n0                                                NaN  ...   \n1                                                NaN  ...   \n2  “A modern multiplayer masterpiece.” 9.5/10 – D...  ...   \n3                                                NaN  ...   \n4                                                NaN  ...   \n\n  average_playtime_forever average_playtime_2weeks median_playtime_forever  \\\n0                    29018                     753                    6078   \n1                        0                       0                       0   \n2                    35557                    1327                    1163   \n3                    12898                     590                    6910   \n4                    16213                     578                    3016   \n\n  median_playtime_2weeks  peak_ccu  \\\n0                    352   1362469   \n1                      0    590582   \n2                    977    668192   \n3                    235    133571   \n4                    331     68162   \n\n                                                tags  pct_pos_total  \\\n0  {'FPS': 90076, 'Shooter': 64786, 'Multiplayer'...             87   \n1  {'Survival': 14611, 'Shooter': 12477, 'Battle ...             58   \n2  {'Free to Play': 59559, 'MOBA': 19966, 'Multip...             81   \n3  {'Open World': 31998, 'Action': 23177, 'Multip...             87   \n4  {'FPS': 9689, 'PvP': 9073, 'e-sports': 9026, '...             85   \n\n   num_reviews_total pct_pos_recent  num_reviews_recent  \n0            8071426             80               56072  \n1            2365012             68               19517  \n2            2247365             71               23832  \n3            1643791             92               16181  \n4            1091695             77               10566  \n\n[5 rows x 46 columns]",
      "text/html": "<div>\n<style scoped>\n    .dataframe tbody tr th:only-of-type {\n        vertical-align: middle;\n    }\n\n    .dataframe tbody tr th {\n        vertical-align: top;\n    }\n\n    .dataframe thead th {\n        text-align: right;\n    }\n</style>\n<table border=\"1\" class=\"dataframe\">\n  <thead>\n    <tr style=\"text-align: right;\">\n      <th></th>\n      <th>AppID</th>\n      <th>name</th>\n      <th>release_date</th>\n      <th>required_age</th>\n      <th>price</th>\n      <th>dlc_count</th>\n      <th>detailed_description</th>\n      <th>about_the_game</th>\n      <th>short_description</th>\n      <th>reviews</th>\n      <th>...</th>\n      <th>average_playtime_forever</th>\n      <th>average_playtime_2weeks</th>\n      <th>median_playtime_forever</th>\n      <th>median_playtime_2weeks</th>\n      <th>peak_ccu</th>\n      <th>tags</th>\n      <th>pct_pos_total</th>\n      <th>num_reviews_total</th>\n      <th>pct_pos_recent</th>\n      <th>num_reviews_recent</th>\n    </tr>\n  </thead>\n  <tbody>\n    <tr>\n      <th>0</th>\n      <td>730</td>\n      <td>Counter-Strike 2</td>\n      <td>2012-08-21</td>\n      <td>0</td>\n      <td>0.00</td>\n      <td>1</td>\n      <td>For over two decades, Counter-Strike has offer...</td>\n      <td>For over two decades, Counter-Strike has offer...</td>\n      <td>For over two decades, Counter-Strike has offer...</td>\n      <td>NaN</td>\n      <td>...</td>\n      <td>29018</td>\n      <td>753</td>\n      <td>6078</td>\n      <td>352</td>\n      <td>1362469</td>\n      <td>{'FPS': 90076, 'Shooter': 64786, 'Multiplayer'...</td>\n      <td>87</td>\n      <td>8071426</td>\n      <td>80</td>\n      <td>56072</td>\n    </tr>\n    <tr>\n      <th>1</th>\n      <td>578080</td>\n      <td>PUBG: BATTLEGROUNDS</td>\n      <td>2017-12-21</td>\n      <td>0</td>\n      <td>0.00</td>\n      <td>0</td>\n      <td>LAND, LOOT, SURVIVE! Play PUBG: BATTLEGROUNDS ...</td>\n      <td>LAND, LOOT, SURVIVE! Play PUBG: BATTLEGROUNDS ...</td>\n      <td>Play PUBG: BATTLEGROUNDS for free. Land on str...</td>\n      <td>NaN</td>\n      <td>...</td>\n      <td>0</td>\n      <td>0</td>\n      <td>0</td>\n      <td>0</td>\n      <td>590582</td>\n      <td>{'Survival': 14611, 'Shooter': 12477, 'Battle ...</td>\n      <td>58</td>\n      <td>2365012</td>\n      <td>68</td>\n      <td>19517</td>\n    </tr>\n    <tr>\n      <th>2</th>\n      <td>570</td>\n      <td>Dota 2</td>\n      <td>2013-07-09</td>\n      <td>0</td>\n      <td>0.00</td>\n      <td>2</td>\n      <td>The most-played game on Steam. Every day, mill...</td>\n      <td>The most-played game on Steam. Every day, mill...</td>\n      <td>Every day, millions of players worldwide enter...</td>\n      <td>“A modern multiplayer masterpiece.” 9.5/10 – D...</td>\n      <td>...</td>\n      <td>35557</td>\n      <td>1327</td>\n      <td>1163</td>\n      <td>977</td>\n      <td>668192</td>\n      <td>{'Free to Play': 59559, 'MOBA': 19966, 'Multip...</td>\n      <td>81</td>\n      <td>2247365</td>\n      <td>71</td>\n      <td>23832</td>\n    </tr>\n    <tr>\n      <th>3</th>\n      <td>271590</td>\n      <td>Grand Theft Auto V</td>\n      <td>2015-04-13</td>\n      <td>17</td>\n      <td>0.00</td>\n      <td>1</td>\n      <td>When a young street hustler, a retired bank ro...</td>\n      <td>When a young street hustler, a retired bank ro...</td>\n      <td>Grand Theft Auto V for PC offers players the o...</td>\n      <td>NaN</td>\n      <td>...</td>\n      <td>12898</td>\n      <td>590</td>\n      <td>6910</td>\n      <td>235</td>\n      <td>133571</td>\n      <td>{'Open World': 31998, 'Action': 23177, 'Multip...</td>\n      <td>87</td>\n      <td>1643791</td>\n      <td>92</td>\n      <td>16181</td>\n    </tr>\n    <tr>\n      <th>4</th>\n      <td>359550</td>\n      <td>Tom Clancy's Rainbow Six® Siege</td>\n      <td>2015-12-01</td>\n      <td>17</td>\n      <td>19.99</td>\n      <td>9</td>\n      <td>Edition Comparison Ultimate Edition The Tom Cl...</td>\n      <td>“One of the best first-person shooters ever ma...</td>\n      <td>Tom Clancy's Rainbow Six® Siege is an elite, t...</td>\n      <td>NaN</td>\n      <td>...</td>\n      <td>16213</td>\n      <td>578</td>\n      <td>3016</td>\n      <td>331</td>\n      <td>68162</td>\n      <td>{'FPS': 9689, 'PvP': 9073, 'e-sports': 9026, '...</td>\n      <td>85</td>\n      <td>1091695</td>\n      <td>77</td>\n      <td>10566</td>\n    </tr>\n  </tbody>\n</table>\n<p>5 rows × 46 columns</p>\n</div>"
     },
     "execution_count": 8,
     "metadata": {},
     "output_type": "execute_result"
    }
   ],
   "source": [
    "data.head()"
   ]
  },
  {
   "cell_type": "code",
   "execution_count": 9,
   "metadata": {
    "ExecuteTime": {
     "end_time": "2024-07-07T13:09:15.194871Z",
     "start_time": "2024-07-07T13:09:15.192221Z"
    }
   },
   "outputs": [],
   "source": [
    "data.set_index('AppID', inplace=True)"
   ]
  },
  {
   "cell_type": "code",
   "execution_count": 10,
   "metadata": {
    "ExecuteTime": {
     "end_time": "2024-07-07T13:09:15.607153Z",
     "start_time": "2024-07-07T13:09:15.517107Z"
    }
   },
   "outputs": [
    {
     "name": "stdout",
     "output_type": "stream",
     "text": [
      "<class 'pandas.core.frame.DataFrame'>\n",
      "Index: 83646 entries, 730 to 655980\n",
      "Data columns (total 45 columns):\n",
      " #   Column                    Non-Null Count  Dtype  \n",
      "---  ------                    --------------  -----  \n",
      " 0   name                      83643 non-null  object \n",
      " 1   release_date              83646 non-null  object \n",
      " 2   required_age              83646 non-null  int64  \n",
      " 3   price                     83646 non-null  float64\n",
      " 4   dlc_count                 83646 non-null  int64  \n",
      " 5   detailed_description      83480 non-null  object \n",
      " 6   about_the_game            83458 non-null  object \n",
      " 7   short_description         83537 non-null  object \n",
      " 8   reviews                   10283 non-null  object \n",
      " 9   header_image              83646 non-null  object \n",
      " 10  website                   39760 non-null  object \n",
      " 11  support_url               42081 non-null  object \n",
      " 12  support_email             73067 non-null  object \n",
      " 13  windows                   83646 non-null  bool   \n",
      " 14  mac                       83646 non-null  bool   \n",
      " 15  linux                     83646 non-null  bool   \n",
      " 16  metacritic_score          83646 non-null  int64  \n",
      " 17  metacritic_url            3940 non-null   object \n",
      " 18  achievements              83646 non-null  int64  \n",
      " 19  recommendations           83646 non-null  int64  \n",
      " 20  notes                     14209 non-null  object \n",
      " 21  supported_languages       83646 non-null  object \n",
      " 22  full_audio_languages      83646 non-null  object \n",
      " 23  packages                  83646 non-null  object \n",
      " 24  developers                83646 non-null  object \n",
      " 25  publishers                83646 non-null  object \n",
      " 26  categories                83646 non-null  object \n",
      " 27  genres                    83646 non-null  object \n",
      " 28  screenshots               83646 non-null  object \n",
      " 29  movies                    83646 non-null  object \n",
      " 30  user_score                83646 non-null  int64  \n",
      " 31  score_rank                41 non-null     float64\n",
      " 32  positive                  83646 non-null  int64  \n",
      " 33  negative                  83646 non-null  int64  \n",
      " 34  estimated_owners          83646 non-null  object \n",
      " 35  average_playtime_forever  83646 non-null  int64  \n",
      " 36  average_playtime_2weeks   83646 non-null  int64  \n",
      " 37  median_playtime_forever   83646 non-null  int64  \n",
      " 38  median_playtime_2weeks    83646 non-null  int64  \n",
      " 39  peak_ccu                  83646 non-null  int64  \n",
      " 40  tags                      83646 non-null  object \n",
      " 41  pct_pos_total             83646 non-null  int64  \n",
      " 42  num_reviews_total         83646 non-null  int64  \n",
      " 43  pct_pos_recent            83646 non-null  int64  \n",
      " 44  num_reviews_recent        83646 non-null  int64  \n",
      "dtypes: bool(3), float64(2), int64(17), object(23)\n",
      "memory usage: 27.7+ MB\n"
     ]
    }
   ],
   "source": [
    "data.info()"
   ]
  },
  {
   "cell_type": "code",
   "execution_count": 11,
   "metadata": {
    "ExecuteTime": {
     "end_time": "2024-07-07T13:09:15.965509Z",
     "start_time": "2024-07-07T13:09:15.894270Z"
    }
   },
   "outputs": [
    {
     "data": {
      "text/plain": "       required_age         price     dlc_count  metacritic_score  \\\ncount  83646.000000  83646.000000  83646.000000      83646.000000   \nmean       0.276403      7.492446      0.580542          3.451080   \nstd        2.119835     13.094604     14.179160         15.685104   \nmin        0.000000      0.000000      0.000000          0.000000   \n25%        0.000000      0.990000      0.000000          0.000000   \n50%        0.000000      4.990000      0.000000          0.000000   \n75%        0.000000      9.990000      0.000000          0.000000   \nmax       21.000000    999.980000   3165.000000         97.000000   \n\n       achievements  recommendations    user_score  score_rank      positive  \\\ncount  83646.000000     8.364600e+04  83646.000000   41.000000  8.364600e+04   \nmean      20.702735     1.003478e+03      0.037467   99.121951  1.276726e+03   \nstd      167.839222     2.108173e+04      1.737074    0.748168  3.057663e+04   \nmin        0.000000     0.000000e+00      0.000000   98.000000  0.000000e+00   \n25%        0.000000     0.000000e+00      0.000000   99.000000  1.000000e+00   \n50%        4.000000     0.000000e+00      0.000000   99.000000  1.100000e+01   \n75%       20.000000     0.000000e+00      0.000000  100.000000  6.400000e+01   \nmax     9821.000000     4.111974e+06    100.000000  100.000000  7.024836e+06   \n\n           negative  average_playtime_forever  average_playtime_2weeks  \\\ncount  8.364600e+04              83646.000000             83646.000000   \nmean   2.072231e+02                 79.663044                 3.634364   \nstd    5.792324e+03               1018.506902                74.621737   \nmin    0.000000e+00                  0.000000                 0.000000   \n25%    0.000000e+00                  0.000000                 0.000000   \n50%    3.000000e+00                  0.000000                 0.000000   \n75%    1.900000e+01                  0.000000                 0.000000   \nmax    1.029779e+06              95816.000000              6836.000000   \n\n       median_playtime_forever  median_playtime_2weeks      peak_ccu  \\\ncount             83646.000000            83646.000000  8.364600e+04   \nmean                 65.152572                3.744925  9.927115e+01   \nstd                 933.278070               82.321592  5.914524e+03   \nmin                   0.000000                0.000000  0.000000e+00   \n25%                   0.000000                0.000000  0.000000e+00   \n50%                   0.000000                0.000000  0.000000e+00   \n75%                   0.000000                0.000000  0.000000e+00   \nmax              110101.000000             9874.000000  1.362469e+06   \n\n       pct_pos_total  num_reviews_total  pct_pos_recent  num_reviews_recent  \ncount   83646.000000       8.364600e+04    83646.000000        83646.000000  \nmean       45.985223       1.345631e+03        5.596191           18.757430  \nstd        40.607112       3.411672e+04       22.911354         1155.763735  \nmin        -1.000000      -1.000000e+00       -1.000000           -1.000000  \n25%        -1.000000      -1.000000e+00       -1.000000           -1.000000  \n50%        60.000000       1.600000e+01       -1.000000           -1.000000  \n75%        84.000000       8.700000e+01       -1.000000           -1.000000  \nmax       100.000000       8.071426e+06      100.000000       321958.000000  ",
      "text/html": "<div>\n<style scoped>\n    .dataframe tbody tr th:only-of-type {\n        vertical-align: middle;\n    }\n\n    .dataframe tbody tr th {\n        vertical-align: top;\n    }\n\n    .dataframe thead th {\n        text-align: right;\n    }\n</style>\n<table border=\"1\" class=\"dataframe\">\n  <thead>\n    <tr style=\"text-align: right;\">\n      <th></th>\n      <th>required_age</th>\n      <th>price</th>\n      <th>dlc_count</th>\n      <th>metacritic_score</th>\n      <th>achievements</th>\n      <th>recommendations</th>\n      <th>user_score</th>\n      <th>score_rank</th>\n      <th>positive</th>\n      <th>negative</th>\n      <th>average_playtime_forever</th>\n      <th>average_playtime_2weeks</th>\n      <th>median_playtime_forever</th>\n      <th>median_playtime_2weeks</th>\n      <th>peak_ccu</th>\n      <th>pct_pos_total</th>\n      <th>num_reviews_total</th>\n      <th>pct_pos_recent</th>\n      <th>num_reviews_recent</th>\n    </tr>\n  </thead>\n  <tbody>\n    <tr>\n      <th>count</th>\n      <td>83646.000000</td>\n      <td>83646.000000</td>\n      <td>83646.000000</td>\n      <td>83646.000000</td>\n      <td>83646.000000</td>\n      <td>8.364600e+04</td>\n      <td>83646.000000</td>\n      <td>41.000000</td>\n      <td>8.364600e+04</td>\n      <td>8.364600e+04</td>\n      <td>83646.000000</td>\n      <td>83646.000000</td>\n      <td>83646.000000</td>\n      <td>83646.000000</td>\n      <td>8.364600e+04</td>\n      <td>83646.000000</td>\n      <td>8.364600e+04</td>\n      <td>83646.000000</td>\n      <td>83646.000000</td>\n    </tr>\n    <tr>\n      <th>mean</th>\n      <td>0.276403</td>\n      <td>7.492446</td>\n      <td>0.580542</td>\n      <td>3.451080</td>\n      <td>20.702735</td>\n      <td>1.003478e+03</td>\n      <td>0.037467</td>\n      <td>99.121951</td>\n      <td>1.276726e+03</td>\n      <td>2.072231e+02</td>\n      <td>79.663044</td>\n      <td>3.634364</td>\n      <td>65.152572</td>\n      <td>3.744925</td>\n      <td>9.927115e+01</td>\n      <td>45.985223</td>\n      <td>1.345631e+03</td>\n      <td>5.596191</td>\n      <td>18.757430</td>\n    </tr>\n    <tr>\n      <th>std</th>\n      <td>2.119835</td>\n      <td>13.094604</td>\n      <td>14.179160</td>\n      <td>15.685104</td>\n      <td>167.839222</td>\n      <td>2.108173e+04</td>\n      <td>1.737074</td>\n      <td>0.748168</td>\n      <td>3.057663e+04</td>\n      <td>5.792324e+03</td>\n      <td>1018.506902</td>\n      <td>74.621737</td>\n      <td>933.278070</td>\n      <td>82.321592</td>\n      <td>5.914524e+03</td>\n      <td>40.607112</td>\n      <td>3.411672e+04</td>\n      <td>22.911354</td>\n      <td>1155.763735</td>\n    </tr>\n    <tr>\n      <th>min</th>\n      <td>0.000000</td>\n      <td>0.000000</td>\n      <td>0.000000</td>\n      <td>0.000000</td>\n      <td>0.000000</td>\n      <td>0.000000e+00</td>\n      <td>0.000000</td>\n      <td>98.000000</td>\n      <td>0.000000e+00</td>\n      <td>0.000000e+00</td>\n      <td>0.000000</td>\n      <td>0.000000</td>\n      <td>0.000000</td>\n      <td>0.000000</td>\n      <td>0.000000e+00</td>\n      <td>-1.000000</td>\n      <td>-1.000000e+00</td>\n      <td>-1.000000</td>\n      <td>-1.000000</td>\n    </tr>\n    <tr>\n      <th>25%</th>\n      <td>0.000000</td>\n      <td>0.990000</td>\n      <td>0.000000</td>\n      <td>0.000000</td>\n      <td>0.000000</td>\n      <td>0.000000e+00</td>\n      <td>0.000000</td>\n      <td>99.000000</td>\n      <td>1.000000e+00</td>\n      <td>0.000000e+00</td>\n      <td>0.000000</td>\n      <td>0.000000</td>\n      <td>0.000000</td>\n      <td>0.000000</td>\n      <td>0.000000e+00</td>\n      <td>-1.000000</td>\n      <td>-1.000000e+00</td>\n      <td>-1.000000</td>\n      <td>-1.000000</td>\n    </tr>\n    <tr>\n      <th>50%</th>\n      <td>0.000000</td>\n      <td>4.990000</td>\n      <td>0.000000</td>\n      <td>0.000000</td>\n      <td>4.000000</td>\n      <td>0.000000e+00</td>\n      <td>0.000000</td>\n      <td>99.000000</td>\n      <td>1.100000e+01</td>\n      <td>3.000000e+00</td>\n      <td>0.000000</td>\n      <td>0.000000</td>\n      <td>0.000000</td>\n      <td>0.000000</td>\n      <td>0.000000e+00</td>\n      <td>60.000000</td>\n      <td>1.600000e+01</td>\n      <td>-1.000000</td>\n      <td>-1.000000</td>\n    </tr>\n    <tr>\n      <th>75%</th>\n      <td>0.000000</td>\n      <td>9.990000</td>\n      <td>0.000000</td>\n      <td>0.000000</td>\n      <td>20.000000</td>\n      <td>0.000000e+00</td>\n      <td>0.000000</td>\n      <td>100.000000</td>\n      <td>6.400000e+01</td>\n      <td>1.900000e+01</td>\n      <td>0.000000</td>\n      <td>0.000000</td>\n      <td>0.000000</td>\n      <td>0.000000</td>\n      <td>0.000000e+00</td>\n      <td>84.000000</td>\n      <td>8.700000e+01</td>\n      <td>-1.000000</td>\n      <td>-1.000000</td>\n    </tr>\n    <tr>\n      <th>max</th>\n      <td>21.000000</td>\n      <td>999.980000</td>\n      <td>3165.000000</td>\n      <td>97.000000</td>\n      <td>9821.000000</td>\n      <td>4.111974e+06</td>\n      <td>100.000000</td>\n      <td>100.000000</td>\n      <td>7.024836e+06</td>\n      <td>1.029779e+06</td>\n      <td>95816.000000</td>\n      <td>6836.000000</td>\n      <td>110101.000000</td>\n      <td>9874.000000</td>\n      <td>1.362469e+06</td>\n      <td>100.000000</td>\n      <td>8.071426e+06</td>\n      <td>100.000000</td>\n      <td>321958.000000</td>\n    </tr>\n  </tbody>\n</table>\n</div>"
     },
     "execution_count": 11,
     "metadata": {},
     "output_type": "execute_result"
    }
   ],
   "source": [
    "data.describe()"
   ]
  },
  {
   "cell_type": "markdown",
   "metadata": {},
   "source": [
    "### Most expensive game"
   ]
  },
  {
   "cell_type": "code",
   "execution_count": 12,
   "metadata": {
    "ExecuteTime": {
     "end_time": "2024-07-07T13:09:16.935694Z",
     "start_time": "2024-07-07T13:09:16.929950Z"
    }
   },
   "outputs": [
    {
     "name": "stdout",
     "output_type": "stream",
     "text": [
      "name                                                        The Leverage Game\n",
      "release_date                                                       2023-08-25\n",
      "required_age                                                                0\n",
      "price                                                                  999.98\n",
      "dlc_count                                                                   0\n",
      "detailed_description        The Leverage Game is a board game in which pla...\n",
      "about_the_game              The Leverage Game is a board game in which pla...\n",
      "short_description           You can learn realistic, world-class managemen...\n",
      "reviews                                                                   NaN\n",
      "header_image                https://cdn.akamai.steamstatic.com/steam/apps/...\n",
      "website                                          https://theleveragegame.net/\n",
      "support_url                                      https://theleveragegame.net/\n",
      "support_email                                       info@artandstrategy.co.jp\n",
      "windows                                                                  True\n",
      "mac                                                                     False\n",
      "linux                                                                   False\n",
      "metacritic_score                                                            0\n",
      "metacritic_url                                                            NaN\n",
      "achievements                                                                0\n",
      "recommendations                                                             0\n",
      "notes                                                                     NaN\n",
      "supported_languages                                   ['English', 'Japanese']\n",
      "full_audio_languages                                  ['English', 'Japanese']\n",
      "packages                    [{'title': 'Buy The Leverage Game', 'descripti...\n",
      "developers                                                       ['A&S Inc.']\n",
      "publishers                                                       ['A&S Inc.']\n",
      "categories                  ['Single-player', 'Multi-player', 'PvP', 'Onli...\n",
      "genres                                                ['Indie', 'Simulation']\n",
      "screenshots                 ['https://cdn.akamai.steamstatic.com/steam/app...\n",
      "movies                      ['http://cdn.akamai.steamstatic.com/steam/apps...\n",
      "user_score                                                                  0\n",
      "score_rank                                                                NaN\n",
      "positive                                                                    0\n",
      "negative                                                                    0\n",
      "estimated_owners                                                    0 - 20000\n",
      "average_playtime_forever                                                    0\n",
      "average_playtime_2weeks                                                     0\n",
      "median_playtime_forever                                                     0\n",
      "median_playtime_2weeks                                                      0\n",
      "peak_ccu                                                                    0\n",
      "tags                                                                       []\n",
      "pct_pos_total                                                              -1\n",
      "num_reviews_total                                                          -1\n",
      "pct_pos_recent                                                             -1\n",
      "num_reviews_recent                                                         -1\n",
      "Name: 2499620, dtype: object\n"
     ]
    }
   ],
   "source": [
    "game=data['price'].idxmax()\n",
    "game_cost=data.loc[game]\n",
    "print(game_cost)"
   ]
  },
  {
   "cell_type": "markdown",
   "metadata": {},
   "source": [
    "### Game with most DLC"
   ]
  },
  {
   "cell_type": "code",
   "execution_count": 13,
   "metadata": {
    "ExecuteTime": {
     "end_time": "2024-07-07T13:09:18.804283Z",
     "start_time": "2024-07-07T13:09:18.799836Z"
    }
   },
   "outputs": [
    {
     "name": "stdout",
     "output_type": "stream",
     "text": [
      "name                                                    Fantasy Grounds Unity\n",
      "release_date                                                       2020-11-05\n",
      "required_age                                                                0\n",
      "price                                                                   19.99\n",
      "dlc_count                                                                3165\n",
      "detailed_description        Featured DLC / D&amp;D Essentials D&amp;D Adve...\n",
      "about_the_game              Prep Less. Play Better. Fantasy Grounds is kno...\n",
      "short_description           Prep Less. Play Better. Exciting upgrades awai...\n",
      "reviews                                                                   NaN\n",
      "header_image                https://cdn.akamai.steamstatic.com/steam/apps/...\n",
      "website                                                                   NaN\n",
      "support_url                                        support.fantasygrounds.com\n",
      "support_email                                      support@fantasygrounds.com\n",
      "windows                                                                  True\n",
      "mac                                                                      True\n",
      "linux                                                                    True\n",
      "metacritic_score                                                            0\n",
      "metacritic_url                                                            NaN\n",
      "achievements                                                                0\n",
      "recommendations                                                           608\n",
      "notes                                                                     NaN\n",
      "supported_languages                                               ['English']\n",
      "full_audio_languages                                                       []\n",
      "packages                    [{'title': 'Buy Fantasy Grounds Unity', 'descr...\n",
      "developers                                            ['SmiteWorks USA, LLC']\n",
      "publishers                                            ['SmiteWorks USA, LLC']\n",
      "categories                  ['Single-player', 'Multi-player', 'Co-op', 'On...\n",
      "genres                                           ['Indie', 'RPG', 'Strategy']\n",
      "screenshots                 ['https://cdn.akamai.steamstatic.com/steam/app...\n",
      "movies                      ['http://cdn.akamai.steamstatic.com/steam/apps...\n",
      "user_score                                                                  0\n",
      "score_rank                                                                NaN\n",
      "positive                                                                  620\n",
      "negative                                                                  123\n",
      "estimated_owners                                               50000 - 100000\n",
      "average_playtime_forever                                                    0\n",
      "average_playtime_2weeks                                                     0\n",
      "median_playtime_forever                                                     0\n",
      "median_playtime_2weeks                                                      0\n",
      "peak_ccu                                                                  109\n",
      "tags                        {'RPG': 258, 'Software': 247, 'Dungeons & Drag...\n",
      "pct_pos_total                                                              82\n",
      "num_reviews_total                                                         611\n",
      "pct_pos_recent                                                             81\n",
      "num_reviews_recent                                                         11\n",
      "Name: 1196310, dtype: object\n"
     ]
    }
   ],
   "source": [
    "game = data['dlc_count'].idxmax()\n",
    "game_cost=data.loc[game]\n",
    "print(game_cost)"
   ]
  },
  {
   "cell_type": "markdown",
   "metadata": {},
   "source": [
    "### Game with best metacritic score"
   ]
  },
  {
   "cell_type": "code",
   "execution_count": 14,
   "metadata": {
    "ExecuteTime": {
     "end_time": "2024-07-07T13:09:19.646191Z",
     "start_time": "2024-07-07T13:09:19.641061Z"
    }
   },
   "outputs": [
    {
     "name": "stdout",
     "output_type": "stream",
     "text": [
      "name                                            Disco Elysium - The Final Cut\n",
      "release_date                                                       2019-10-15\n",
      "required_age                                                                0\n",
      "price                                                                   39.99\n",
      "dlc_count                                                                   2\n",
      "detailed_description        NEW FEATURES AWARDS About the Game Disco Elysi...\n",
      "about_the_game              Disco Elysium - The Final Cut is the definitiv...\n",
      "short_description           Disco Elysium - The Final Cut is a groundbreak...\n",
      "reviews                     “Powerful, poetic, haunting, and hilarious.” 1...\n",
      "header_image                https://cdn.akamai.steamstatic.com/steam/apps/...\n",
      "website                                             http://www.zaumstudio.com\n",
      "support_url                                         http://www.zaumstudio.com\n",
      "support_email                                                             NaN\n",
      "windows                                                                  True\n",
      "mac                                                                      True\n",
      "linux                                                                   False\n",
      "metacritic_score                                                           97\n",
      "metacritic_url              https://www.metacritic.com/game/pc/disco-elysi...\n",
      "achievements                                                               45\n",
      "recommendations                                                         84676\n",
      "notes                       The game contains instances of substance abuse...\n",
      "supported_languages         ['English', 'Simplified Chinese', 'Spanish - S...\n",
      "full_audio_languages                                    ['English', 'Arabic']\n",
      "packages                    [{'title': 'Buy Disco Elysium - The Final Cut'...\n",
      "developers                                                          ['ZA/UM']\n",
      "publishers                                                          ['ZA/UM']\n",
      "categories                  ['Single-player', 'Steam Achievements', 'Full ...\n",
      "genres                                                                ['RPG']\n",
      "screenshots                 ['https://cdn.akamai.steamstatic.com/steam/app...\n",
      "movies                      ['http://cdn.akamai.steamstatic.com/steam/apps...\n",
      "user_score                                                                  0\n",
      "score_rank                                                                NaN\n",
      "positive                                                                85890\n",
      "negative                                                                 6135\n",
      "estimated_owners                                            2000000 - 5000000\n",
      "average_playtime_forever                                                    0\n",
      "average_playtime_2weeks                                                     0\n",
      "median_playtime_forever                                                     0\n",
      "median_playtime_2weeks                                                      0\n",
      "peak_ccu                                                                 1457\n",
      "tags                        {'RPG': 1058, 'Story Rich': 950, 'Choices Matt...\n",
      "pct_pos_total                                                              93\n",
      "num_reviews_total                                                       84918\n",
      "pct_pos_recent                                                             91\n",
      "num_reviews_recent                                                       1119\n",
      "Name: 632470, dtype: object\n"
     ]
    }
   ],
   "source": [
    "game = data['metacritic_score'].idxmax()\n",
    "game_cost=data.loc[game]\n",
    "print(game_cost)"
   ]
  },
  {
   "cell_type": "markdown",
   "metadata": {},
   "source": [
    "### Basic plotting"
   ]
  },
  {
   "cell_type": "code",
   "execution_count": 15,
   "metadata": {
    "ExecuteTime": {
     "end_time": "2024-07-07T13:09:20.739467Z",
     "start_time": "2024-07-07T13:09:20.457182Z"
    }
   },
   "outputs": [
    {
     "data": {
      "text/plain": "<Figure size 1000x600 with 1 Axes>",
      "image/png": "[encoded data removed]"
     },
     "metadata": {},
     "output_type": "display_data"
    }
   ],
   "source": [
    "data['release_date'] = pd.to_datetime(data['release_date'], errors='coerce')\n",
    "data['year'] = data['release_date'].dt.year\n",
    "\n",
    "release_by_year = data.groupby('year')['release_date'].count().reset_index()\n",
    "release_by_year.columns = ['Year', 'Count']\n",
    "\n",
    "plt.figure(figsize=(10, 6))\n",
    "plt.plot(release_by_year['Year'], release_by_year['Count'])\n",
    "\n",
    "plt.title('Games Released Over Time')\n",
    "plt.xlabel('Release Year')\n",
    "plt.ylabel('Number of Games')\n",
    "\n",
    "plt.xlim(1995, 2025)\n",
    "\n",
    "plt.grid(True)\n",
    "plt.show()"
   ]
  },
  {
   "cell_type": "code",
   "execution_count": 16,
   "metadata": {
    "ExecuteTime": {
     "end_time": "2024-07-07T13:09:21.612138Z",
     "start_time": "2024-07-07T13:09:21.403989Z"
    }
   },
   "outputs": [
    {
     "data": {
      "text/plain": "<Figure size 1200x600 with 1 Axes>",
      "image/png": "[encoded data removed]"
     },
     "metadata": {},
     "output_type": "display_data"
    }
   ],
   "source": [
    "top_publishers = data['publishers'].value_counts().head(10)\n",
    "\n",
    "plt.figure(figsize=(12, 6))\n",
    "sns.barplot(x=top_publishers.values, y=top_publishers.index)\n",
    "plt.title('Top 10 Publishers by Number of Games Released')\n",
    "plt.xlabel('Number of Games')\n",
    "plt.ylabel('Publisher')\n",
    "plt.show()"
   ]
  },
  {
   "cell_type": "code",
   "execution_count": 17,
   "metadata": {
    "ExecuteTime": {
     "end_time": "2024-07-07T13:09:22.333038Z",
     "start_time": "2024-07-07T13:09:22.192044Z"
    }
   },
   "outputs": [
    {
     "data": {
      "text/plain": "<Figure size 1200x600 with 1 Axes>",
      "image/png": "[encoded data removed]"
     },
     "metadata": {},
     "output_type": "display_data"
    }
   ],
   "source": [
    "platform_support = pd.DataFrame({\n",
    "    'Platform': ['Windows', 'Mac', 'Linux'],\n",
    "    'Count': [\n",
    "        data['windows'].sum(),\n",
    "        data['mac'].sum(),\n",
    "        data['linux'].sum()\n",
    "    ]\n",
    "})\n",
    "\n",
    "# Plot the number of games supporting each platform\n",
    "plt.figure(figsize=(12, 6))\n",
    "sns.barplot(x='Platform', y='Count', data=platform_support)\n",
    "plt.title('Supported Platforms by Number of Games')\n",
    "plt.xlabel('Platform')\n",
    "plt.ylabel('Number of Games')\n",
    "plt.show()"
   ]
  },
  {
   "cell_type": "markdown",
   "metadata": {},
   "source": [
    "### Preprocessing dataset for model"
   ]
  },
  {
   "cell_type": "code",
   "execution_count": 18,
   "metadata": {
    "ExecuteTime": {
     "end_time": "2024-07-07T13:09:24.232499Z",
     "start_time": "2024-07-07T13:09:24.149019Z"
    }
   },
   "outputs": [
    {
     "data": {
      "text/plain": "name                            3\nrelease_date                    0\nrequired_age                    0\nprice                           0\ndlc_count                       0\ndetailed_description          166\nabout_the_game                188\nshort_description             109\nreviews                     73363\nheader_image                    0\nwebsite                     43886\nsupport_url                 41565\nsupport_email               10579\nwindows                         0\nmac                             0\nlinux                           0\nmetacritic_score                0\nmetacritic_url              79706\nachievements                    0\nrecommendations                 0\nnotes                       69437\nsupported_languages             0\nfull_audio_languages            0\npackages                        0\ndevelopers                      0\npublishers                      0\ncategories                      0\ngenres                          0\nscreenshots                     0\nmovies                          0\nuser_score                      0\nscore_rank                  83605\npositive                        0\nnegative                        0\nestimated_owners                0\naverage_playtime_forever        0\naverage_playtime_2weeks         0\nmedian_playtime_forever         0\nmedian_playtime_2weeks          0\npeak_ccu                        0\ntags                            0\npct_pos_total                   0\nnum_reviews_total               0\npct_pos_recent                  0\nnum_reviews_recent              0\nyear                            0\ndtype: int64"
     },
     "execution_count": 18,
     "metadata": {},
     "output_type": "execute_result"
    }
   ],
   "source": [
    "data.isnull().sum()"
   ]
  },
  {
   "cell_type": "code",
   "execution_count": 19,
   "metadata": {
    "ExecuteTime": {
     "end_time": "2024-07-07T13:09:26.999861Z",
     "start_time": "2024-07-07T13:09:26.977426Z"
    }
   },
   "outputs": [],
   "source": [
    "data = data.drop(['score_rank','notes','metacritic_url', 'website','support_url','support_email','reviews','detailed_description','about_the_game','short_description'], axis=1)"
   ]
  },
  {
   "cell_type": "code",
   "execution_count": 20,
   "metadata": {
    "ExecuteTime": {
     "end_time": "2024-07-07T13:09:28.239416Z",
     "start_time": "2024-07-07T13:09:28.188096Z"
    }
   },
   "outputs": [
    {
     "data": {
      "text/plain": "name                        3\nrelease_date                0\nrequired_age                0\nprice                       0\ndlc_count                   0\nheader_image                0\nwindows                     0\nmac                         0\nlinux                       0\nmetacritic_score            0\nachievements                0\nrecommendations             0\nsupported_languages         0\nfull_audio_languages        0\npackages                    0\ndevelopers                  0\npublishers                  0\ncategories                  0\ngenres                      0\nscreenshots                 0\nmovies                      0\nuser_score                  0\npositive                    0\nnegative                    0\nestimated_owners            0\naverage_playtime_forever    0\naverage_playtime_2weeks     0\nmedian_playtime_forever     0\nmedian_playtime_2weeks      0\npeak_ccu                    0\ntags                        0\npct_pos_total               0\nnum_reviews_total           0\npct_pos_recent              0\nnum_reviews_recent          0\nyear                        0\ndtype: int64"
     },
     "execution_count": 20,
     "metadata": {},
     "output_type": "execute_result"
    }
   ],
   "source": [
    "data.isnull().sum()"
   ]
  },
  {
   "cell_type": "code",
   "execution_count": 21,
   "metadata": {
    "ExecuteTime": {
     "end_time": "2024-07-07T13:09:33.512518Z",
     "start_time": "2024-07-07T13:09:33.452483Z"
    }
   },
   "outputs": [
    {
     "data": {
      "text/plain": "        name release_date  required_age  price  dlc_count  \\\nAppID                                                       \n396420   NaN   2016-11-01             0   0.00          0   \n1116910  NaN   2019-09-25             0   2.79          0   \n1347240  NaN   2021-04-20             0  24.99          0   \n\n                                              header_image  windows    mac  \\\nAppID                                                                        \n396420   https://shared.akamai.steamstatic.com/store_it...     True  False   \n1116910  https://cdn.akamai.steamstatic.com/steam/apps/...     True  False   \n1347240  https://cdn.akamai.steamstatic.com/steam/apps/...     True  False   \n\n         linux  metacritic_score  ...  average_playtime_2weeks  \\\nAppID                             ...                            \n396420   False                 0  ...                        0   \n1116910  False                 0  ...                        0   \n1347240  False                 0  ...                        0   \n\n         median_playtime_forever median_playtime_2weeks peak_ccu tags  \\\nAppID                                                                   \n396420                         0                      0        0   []   \n1116910                        0                      0        0   []   \n1347240                        0                      0        0   []   \n\n        pct_pos_total num_reviews_total pct_pos_recent num_reviews_recent  \\\nAppID                                                                       \n396420             71                60             -1                 -1   \n1116910            34                29             -1                 -1   \n1347240            -1                -1             -1                 -1   \n\n         year  \nAppID          \n396420   2016  \n1116910  2019  \n1347240  2021  \n\n[3 rows x 36 columns]",
      "text/html": "<div>\n<style scoped>\n    .dataframe tbody tr th:only-of-type {\n        vertical-align: middle;\n    }\n\n    .dataframe tbody tr th {\n        vertical-align: top;\n    }\n\n    .dataframe thead th {\n        text-align: right;\n    }\n</style>\n<table border=\"1\" class=\"dataframe\">\n  <thead>\n    <tr style=\"text-align: right;\">\n      <th></th>\n      <th>name</th>\n      <th>release_date</th>\n      <th>required_age</th>\n      <th>price</th>\n      <th>dlc_count</th>\n      <th>header_image</th>\n      <th>windows</th>\n      <th>mac</th>\n      <th>linux</th>\n      <th>metacritic_score</th>\n      <th>...</th>\n      <th>average_playtime_2weeks</th>\n      <th>median_playtime_forever</th>\n      <th>median_playtime_2weeks</th>\n      <th>peak_ccu</th>\n      <th>tags</th>\n      <th>pct_pos_total</th>\n      <th>num_reviews_total</th>\n      <th>pct_pos_recent</th>\n      <th>num_reviews_recent</th>\n      <th>year</th>\n    </tr>\n    <tr>\n      <th>AppID</th>\n      <th></th>\n      <th></th>\n      <th></th>\n      <th></th>\n      <th></th>\n      <th></th>\n      <th></th>\n      <th></th>\n      <th></th>\n      <th></th>\n      <th></th>\n      <th></th>\n      <th></th>\n      <th></th>\n      <th></th>\n      <th></th>\n      <th></th>\n      <th></th>\n      <th></th>\n      <th></th>\n      <th></th>\n    </tr>\n  </thead>\n  <tbody>\n    <tr>\n      <th>396420</th>\n      <td>NaN</td>\n      <td>2016-11-01</td>\n      <td>0</td>\n      <td>0.00</td>\n      <td>0</td>\n      <td>https://shared.akamai.steamstatic.com/store_it...</td>\n      <td>True</td>\n      <td>False</td>\n      <td>False</td>\n      <td>0</td>\n      <td>...</td>\n      <td>0</td>\n      <td>0</td>\n      <td>0</td>\n      <td>0</td>\n      <td>[]</td>\n      <td>71</td>\n      <td>60</td>\n      <td>-1</td>\n      <td>-1</td>\n      <td>2016</td>\n    </tr>\n    <tr>\n      <th>1116910</th>\n      <td>NaN</td>\n      <td>2019-09-25</td>\n      <td>0</td>\n      <td>2.79</td>\n      <td>0</td>\n      <td>https://cdn.akamai.steamstatic.com/steam/apps/...</td>\n      <td>True</td>\n      <td>False</td>\n      <td>False</td>\n      <td>0</td>\n      <td>...</td>\n      <td>0</td>\n      <td>0</td>\n      <td>0</td>\n      <td>0</td>\n      <td>[]</td>\n      <td>34</td>\n      <td>29</td>\n      <td>-1</td>\n      <td>-1</td>\n      <td>2019</td>\n    </tr>\n    <tr>\n      <th>1347240</th>\n      <td>NaN</td>\n      <td>2021-04-20</td>\n      <td>0</td>\n      <td>24.99</td>\n      <td>0</td>\n      <td>https://cdn.akamai.steamstatic.com/steam/apps/...</td>\n      <td>True</td>\n      <td>False</td>\n      <td>False</td>\n      <td>0</td>\n      <td>...</td>\n      <td>0</td>\n      <td>0</td>\n      <td>0</td>\n      <td>0</td>\n      <td>[]</td>\n      <td>-1</td>\n      <td>-1</td>\n      <td>-1</td>\n      <td>-1</td>\n      <td>2021</td>\n    </tr>\n  </tbody>\n</table>\n<p>3 rows × 36 columns</p>\n</div>"
     },
     "execution_count": 21,
     "metadata": {},
     "output_type": "execute_result"
    }
   ],
   "source": [
    "data[data.isna().any(axis=1)]"
   ]
  },
  {
   "cell_type": "code",
   "execution_count": 22,
   "metadata": {
    "ExecuteTime": {
     "end_time": "2024-07-07T13:09:37.192260Z",
     "start_time": "2024-07-07T13:09:37.185835Z"
    }
   },
   "outputs": [],
   "source": [
    "train_data_genres = data.filter(['AppID', 'genres'])\n",
    "train_data_tags = data.filter(['AppID', 'tags'])"
   ]
  },
  {
   "cell_type": "code",
   "execution_count": 23,
   "metadata": {
    "ExecuteTime": {
     "end_time": "2024-07-07T13:09:39.356147Z",
     "start_time": "2024-07-07T13:09:39.349926Z"
    }
   },
   "outputs": [
    {
     "name": "stdout",
     "output_type": "stream",
     "text": [
      "                                                   genres\n",
      "AppID                                                    \n",
      "730                            ['Action', 'Free to Play']\n",
      "578080  ['Action', 'Adventure', 'Massively Multiplayer...\n",
      "570                ['Action', 'Strategy', 'Free to Play']\n",
      "271590                            ['Action', 'Adventure']\n",
      "359550                                         ['Action']\n",
      "True\n"
     ]
    }
   ],
   "source": [
    "print(train_data_genres.head())\n",
    "print(f\"{train_data_genres['genres'].isnull().sum() == 0}\")"
   ]
  },
  {
   "cell_type": "code",
   "execution_count": 24,
   "metadata": {
    "ExecuteTime": {
     "end_time": "2024-07-07T13:09:40.742624Z",
     "start_time": "2024-07-07T13:09:40.732674Z"
    }
   },
   "outputs": [
    {
     "name": "stdout",
     "output_type": "stream",
     "text": [
      "                                                     tags\n",
      "AppID                                                    \n",
      "730     {'FPS': 90076, 'Shooter': 64786, 'Multiplayer'...\n",
      "578080  {'Survival': 14611, 'Shooter': 12477, 'Battle ...\n",
      "570     {'Free to Play': 59559, 'MOBA': 19966, 'Multip...\n",
      "271590  {'Open World': 31998, 'Action': 23177, 'Multip...\n",
      "359550  {'FPS': 9689, 'PvP': 9073, 'e-sports': 9026, '...\n",
      "True\n"
     ]
    }
   ],
   "source": [
    "print(train_data_tags.head())\n",
    "print(f\"{train_data_tags['tags'].isnull().sum() == 0}\")"
   ]
  },
  {
   "cell_type": "markdown",
   "metadata": {},
   "source": [
    "## Models"
   ]
  },
  {
   "cell_type": "code",
   "execution_count": 25,
   "metadata": {
    "ExecuteTime": {
     "end_time": "2024-07-07T13:09:44.205210Z",
     "start_time": "2024-07-07T13:09:43.270425Z"
    }
   },
   "outputs": [],
   "source": [
    "from sklearn.metrics.pairwise import cosine_similarity\n",
    "from sklearn.feature_extraction.text import TfidfVectorizer\n",
    "from sklearn.neighbors import NearestNeighbors\n",
    "import joblib"
   ]
  },
  {
   "cell_type": "markdown",
   "metadata": {},
   "source": [
    "### Tfidf and KNN"
   ]
  },
  {
   "cell_type": "code",
   "execution_count": 26,
   "metadata": {
    "ExecuteTime": {
     "end_time": "2024-07-07T13:09:47.149301Z",
     "start_time": "2024-07-07T13:09:46.960643Z"
    }
   },
   "outputs": [
    {
     "name": "stderr",
     "output_type": "stream",
     "text": [
      "C:\\Users\\senyaaa\\AppData\\Local\\Programs\\Python\\Python312\\Lib\\site-packages\\sklearn\\feature_extraction\\text.py:525: UserWarning: The parameter 'token_pattern' will not be used since 'tokenizer' is not None'\n",
      "  warnings.warn(\n"
     ]
    }
   ],
   "source": [
    "tfidf = TfidfVectorizer(tokenizer=lambda x: x.split(', '))\n",
    "tfidf_matrix = tfidf.fit_transform(train_data_genres['genres'])"
   ]
  },
  {
   "cell_type": "code",
   "execution_count": 28,
   "metadata": {
    "ExecuteTime": {
     "end_time": "2024-07-07T13:10:15.295145Z",
     "start_time": "2024-07-07T13:10:15.287582Z"
    }
   },
   "outputs": [
    {
     "data": {
      "text/plain": "['../models/nn_tfidf.joblib']"
     },
     "execution_count": 28,
     "metadata": {},
     "output_type": "execute_result"
    }
   ],
   "source": [
    "nn_tfidf = NearestNeighbors(metric='cosine', algorithm='brute')\n",
    "nn_tfidf.fit(tfidf_matrix)\n",
    "\n",
    "joblib.dump(nn_tfidf, '../models/nn_tfidf.joblib')"
   ]
  },
  {
   "cell_type": "code",
   "execution_count": 29,
   "metadata": {
    "ExecuteTime": {
     "end_time": "2024-07-07T13:10:19.462686Z",
     "start_time": "2024-07-07T13:10:19.459391Z"
    }
   },
   "outputs": [],
   "source": [
    "def recommend_games_tfidf(game_id, df, nn, tfidf_matrix, num_recommendations=5):\n",
    "    # Get the game vector from the TF-IDF matrix\n",
    "    query_vector = tfidf_matrix[train_data_genres.index.get_loc(570)]\n",
    "\n",
    "    # Perform the nearest neighbors search\n",
    "    distances, indices = nn.kneighbors(query_vector, n_neighbors=num_recommendations + 1)\n",
    "\n",
    "    # Exclude the input game itself\n",
    "    indices = indices[0][1:num_recommendations + 1]\n",
    "\n",
    "    # Map indices back to AppIDs\n",
    "    recommended_app_ids = df.index[indices]\n",
    "\n",
    "    # Return the top 5 most similar games along with their prices\n",
    "    return df.loc[recommended_app_ids]\n"
   ]
  },
  {
   "cell_type": "code",
   "execution_count": 30,
   "metadata": {
    "ExecuteTime": {
     "end_time": "2024-07-07T13:10:20.022890Z",
     "start_time": "2024-07-07T13:10:20.012439Z"
    }
   },
   "outputs": [
    {
     "name": "stdout",
     "output_type": "stream",
     "text": [
      "                                         genres\n",
      "AppID                                          \n",
      "850170   ['Action', 'Strategy', 'Free to Play']\n",
      "1869590  ['Action', 'Strategy', 'Free to Play']\n",
      "2850750  ['Action', 'Strategy', 'Free to Play']\n",
      "2517850  ['Action', 'Strategy', 'Free to Play']\n",
      "2438160  ['Action', 'Strategy', 'Free to Play']\n"
     ]
    }
   ],
   "source": [
    "recommendations = recommend_games_tfidf(570, train_data_genres, nn_tfidf, tfidf_matrix, num_recommendations=5)\n",
    "print(recommendations)"
   ]
  },
  {
   "cell_type": "markdown",
   "metadata": {},
   "source": [
    "### Just KNN"
   ]
  },
  {
   "cell_type": "code",
   "execution_count": 31,
   "metadata": {
    "ExecuteTime": {
     "end_time": "2024-07-07T13:10:54.202768Z",
     "start_time": "2024-07-07T13:10:24.635466Z"
    }
   },
   "outputs": [],
   "source": [
    "import ast\n",
    "train_data_tags['tags'] = train_data_tags['tags'].apply(ast.literal_eval)\n",
    "\n",
    "expanded_tags = train_data_tags['tags'].apply(pd.Series)\n",
    "expanded_tags = expanded_tags.fillna(0).astype(int)\n",
    "\n",
    "train_data_tags = pd.concat([train_data_tags, expanded_tags], axis=1)\n",
    "train_data_tags = train_data_tags.drop('tags', axis=1)"
   ]
  },
  {
   "cell_type": "code",
   "execution_count": 66,
   "metadata": {},
   "outputs": [],
   "source": [
    "#expanded_tags.to_csv('../data/expanded_tags.csv')"
   ]
  },
  {
   "cell_type": "code",
   "execution_count": 32,
   "metadata": {
    "ExecuteTime": {
     "end_time": "2024-07-07T13:11:03.670441Z",
     "start_time": "2024-07-07T13:11:03.667035Z"
    }
   },
   "outputs": [],
   "source": [
    "def recommend_games_tags(game_id, df, nn, num_recommendations=5):\n",
    "    query_vector = df.loc[game_id].to_numpy().reshape(1, -1)\n",
    "    distances, indices = nn.kneighbors(query_vector, n_neighbors=num_recommendations + 1)\n",
    "\n",
    "    # Exclude the input game itself\n",
    "    indices = indices[0][1:num_recommendations + 1]\n",
    "\n",
    "    # Map indices back to AppIDs\n",
    "    recommended_app_ids = df.index[indices]\n",
    "\n",
    "    # Return the top 5 most similar games along with their tags\n",
    "    return df.loc[recommended_app_ids]"
   ]
  },
  {
   "cell_type": "code",
   "execution_count": 33,
   "metadata": {
    "ExecuteTime": {
     "end_time": "2024-07-07T13:11:04.413261Z",
     "start_time": "2024-07-07T13:11:04.262004Z"
    }
   },
   "outputs": [
    {
     "data": {
      "text/plain": "['../models/tags.joblib']"
     },
     "execution_count": 33,
     "metadata": {},
     "output_type": "execute_result"
    }
   ],
   "source": [
    "nn_tags = NearestNeighbors(metric='cosine', algorithm='brute')\n",
    "nn_tags.fit(expanded_tags)\n",
    "\n",
    "joblib.dump(nn_tags, '../models/tags.joblib')"
   ]
  },
  {
   "cell_type": "code",
   "execution_count": 34,
   "metadata": {
    "ExecuteTime": {
     "end_time": "2024-07-07T13:11:11.625147Z",
     "start_time": "2024-07-07T13:11:11.335015Z"
    }
   },
   "outputs": [
    {
     "name": "stderr",
     "output_type": "stream",
     "text": [
      "C:\\Users\\senyaaa\\AppData\\Local\\Programs\\Python\\Python312\\Lib\\site-packages\\sklearn\\base.py:493: UserWarning: X does not have valid feature names, but NearestNeighbors was fitted with feature names\n",
      "  warnings.warn(\n"
     ]
    },
    {
     "name": "stdout",
     "output_type": "stream",
     "text": [
      "        FPS  Shooter  Multiplayer  Competitive  Action  Team-Based  e-sports  \\\n",
      "AppID                                                                          \n",
      "339280    0        0          185            0     136          13         0   \n",
      "630       0      455          545            0     599         204         0   \n",
      "372190    0        0            0            0       0           0         0   \n",
      "754640    0        0            0            0       0           0         0   \n",
      "648600    0        0            0            0       0           0         0   \n",
      "\n",
      "        Tactical  First-Person  PvP  ...  Batman  Tile-Matching  Baseball  \\\n",
      "AppID                                ...                                    \n",
      "339280         0             0   23  ...       0              0         0   \n",
      "630            0             0    0  ...       0              0         0   \n",
      "372190         0             0    0  ...       0              0         0   \n",
      "754640         0             0    0  ...       0              0         0   \n",
      "648600         0             0    0  ...       0              0         0   \n",
      "\n",
      "        Documentary  Soccer  Football  Feature Film  Steam Machine  Rugby  \\\n",
      "AppID                                                                       \n",
      "339280            0       0         0             0              0      0   \n",
      "630               0       0         0             0              0      0   \n",
      "372190            0       0         0             0              0      0   \n",
      "754640            0       0         0             0              0      0   \n",
      "648600            0       0         0             0              0      0   \n",
      "\n",
      "        8-bit Music  \n",
      "AppID                \n",
      "339280            0  \n",
      "630               0  \n",
      "372190            0  \n",
      "754640            0  \n",
      "648600            0  \n",
      "\n",
      "[5 rows x 452 columns]\n"
     ]
    }
   ],
   "source": [
    "recommendations = recommend_games_tags(570, expanded_tags, nn_tags, num_recommendations=5)\n",
    "print(recommendations)"
   ]
  },
  {
   "cell_type": "code",
   "execution_count": 60,
   "metadata": {},
   "outputs": [
    {
     "name": "stderr",
     "output_type": "stream",
     "text": [
      "<>:4: SyntaxWarning: invalid escape sequence '\\V'\n",
      "<>:4: SyntaxWarning: invalid escape sequence '\\V'\n",
      "C:\\Users\\senyaaa\\AppData\\Local\\Temp\\ipykernel_13236\\2887597790.py:4: SyntaxWarning: invalid escape sequence '\\V'\n",
      "  joblib.dump(nn_tags, 'F:\\VSCode projects\\SteamGameRecommender\\SteamGameRecommender\\models\\\\tags_scaled.pkl')\n"
     ]
    },
    {
     "data": {
      "text/plain": [
       "['F:\\\\VSCode projects\\\\SteamGameRecommender\\\\SteamGameRecommender\\\\models\\\\tags_scaled.pkl']"
      ]
     },
     "execution_count": 60,
     "metadata": {},
     "output_type": "execute_result"
    }
   ],
   "source": [
    "nn_tags_scaled = NearestNeighbors(metric='cosine', algorithm='brute')\n",
    "nn_tags_scaled.fit(expanded_tags_scaled)\n",
    "\n",
    "joblib.dump(nn_tags, '../models/tags_scaled.pkl')"
   ]
  },
  {
   "cell_type": "code",
   "execution_count": 64,
   "metadata": {},
   "outputs": [],
   "source": [
    "\n",
    "def recommend_games_tags_scaled(game_id, df, nn, num_recommendations=5):\n",
    "    query_vector = df[game_id].reshape(1, -1)\n",
    "    distances, indices = nn.kneighbors(query_vector, n_neighbors=num_recommendations + 1)\n",
    "\n",
    "    # Exclude the input game itself\n",
    "    indices = indices[0][1:num_recommendations + 1]\n",
    "\n",
    "    # Return the top 5 most similar games along with their tags\n",
    "    return indices"
   ]
  },
  {
   "cell_type": "code",
   "execution_count": 65,
   "metadata": {},
   "outputs": [
    {
     "name": "stdout",
     "output_type": "stream",
     "text": [
      "[36282 55157 21937 42613 45842]\n"
     ]
    }
   ],
   "source": [
    "recommendations = recommend_games_tags_scaled(570, expanded_tags_scaled, nn_tags_scaled, num_recommendations=5)\n",
    "print(recommendations)"
   ]
  },
  {
   "cell_type": "markdown",
   "metadata": {},
   "source": [
    "### Clustering"
   ]
  },
  {
   "cell_type": "markdown",
   "metadata": {},
   "source": [
    "#### KMeans"
   ]
  },
  {
   "cell_type": "code",
   "execution_count": 29,
   "metadata": {},
   "outputs": [],
   "source": [
    "from sklearn.cluster import KMeans\n",
    "from sklearn.preprocessing import StandardScaler\n",
    "from sklearn.cluster import DBSCAN\n",
    "scaler = StandardScaler()\n",
    "expanded_tags_scaled = scaler.fit_transform(expanded_tags)"
   ]
  },
  {
   "cell_type": "code",
   "execution_count": 53,
   "metadata": {},
   "outputs": [
    {
     "data": {
      "text/html": [
       "<style>#sk-container-id-7 {\n",
       "  /* Definition of color scheme common for light and dark mode */\n",
       "  --sklearn-color-text: black;\n",
       "  --sklearn-color-line: gray;\n",
       "  /* Definition of color scheme for unfitted estimators */\n",
       "  --sklearn-color-unfitted-level-0: #fff5e6;\n",
       "  --sklearn-color-unfitted-level-1: #f6e4d2;\n",
       "  --sklearn-color-unfitted-level-2: #ffe0b3;\n",
       "  --sklearn-color-unfitted-level-3: chocolate;\n",
       "  /* Definition of color scheme for fitted estimators */\n",
       "  --sklearn-color-fitted-level-0: #f0f8ff;\n",
       "  --sklearn-color-fitted-level-1: #d4ebff;\n",
       "  --sklearn-color-fitted-level-2: #b3dbfd;\n",
       "  --sklearn-color-fitted-level-3: cornflowerblue;\n",
       "\n",
       "  /* Specific color for light theme */\n",
       "  --sklearn-color-text-on-default-background: var(--sg-text-color, var(--theme-code-foreground, var(--jp-content-font-color1, black)));\n",
       "  --sklearn-color-background: var(--sg-background-color, var(--theme-background, var(--jp-layout-color0, white)));\n",
       "  --sklearn-color-border-box: var(--sg-text-color, var(--theme-code-foreground, var(--jp-content-font-color1, black)));\n",
       "  --sklearn-color-icon: #696969;\n",
       "\n",
       "  @media (prefers-color-scheme: dark) {\n",
       "    /* Redefinition of color scheme for dark theme */\n",
       "    --sklearn-color-text-on-default-background: var(--sg-text-color, var(--theme-code-foreground, var(--jp-content-font-color1, white)));\n",
       "    --sklearn-color-background: var(--sg-background-color, var(--theme-background, var(--jp-layout-color0, #111)));\n",
       "    --sklearn-color-border-box: var(--sg-text-color, var(--theme-code-foreground, var(--jp-content-font-color1, white)));\n",
       "    --sklearn-color-icon: #878787;\n",
       "  }\n",
       "}\n",
       "\n",
       "#sk-container-id-7 {\n",
       "  color: var(--sklearn-color-text);\n",
       "}\n",
       "\n",
       "#sk-container-id-7 pre {\n",
       "  padding: 0;\n",
       "}\n",
       "\n",
       "#sk-container-id-7 input.sk-hidden--visually {\n",
       "  border: 0;\n",
       "  clip: rect(1px 1px 1px 1px);\n",
       "  clip: rect(1px, 1px, 1px, 1px);\n",
       "  height: 1px;\n",
       "  margin: -1px;\n",
       "  overflow: hidden;\n",
       "  padding: 0;\n",
       "  position: absolute;\n",
       "  width: 1px;\n",
       "}\n",
       "\n",
       "#sk-container-id-7 div.sk-dashed-wrapped {\n",
       "  border: 1px dashed var(--sklearn-color-line);\n",
       "  margin: 0 0.4em 0.5em 0.4em;\n",
       "  box-sizing: border-box;\n",
       "  padding-bottom: 0.4em;\n",
       "  background-color: var(--sklearn-color-background);\n",
       "}\n",
       "\n",
       "#sk-container-id-7 div.sk-container {\n",
       "  /* jupyter's `normalize.less` sets `[hidden] { display: none; }`\n",
       "     but bootstrap.min.css set `[hidden] { display: none !important; }`\n",
       "     so we also need the `!important` here to be able to override the\n",
       "     default hidden behavior on the sphinx rendered scikit-learn.org.\n",
       "     See: https://github.com/scikit-learn/scikit-learn/issues/21755 */\n",
       "  display: inline-block !important;\n",
       "  position: relative;\n",
       "}\n",
       "\n",
       "#sk-container-id-7 div.sk-text-repr-fallback {\n",
       "  display: none;\n",
       "}\n",
       "\n",
       "div.sk-parallel-item,\n",
       "div.sk-serial,\n",
       "div.sk-item {\n",
       "  /* draw centered vertical line to link estimators */\n",
       "  background-image: linear-gradient(var(--sklearn-color-text-on-default-background), var(--sklearn-color-text-on-default-background));\n",
       "  background-size: 2px 100%;\n",
       "  background-repeat: no-repeat;\n",
       "  background-position: center center;\n",
       "}\n",
       "\n",
       "/* Parallel-specific style estimator block */\n",
       "\n",
       "#sk-container-id-7 div.sk-parallel-item::after {\n",
       "  content: \"\";\n",
       "  width: 100%;\n",
       "  border-bottom: 2px solid var(--sklearn-color-text-on-default-background);\n",
       "  flex-grow: 1;\n",
       "}\n",
       "\n",
       "#sk-container-id-7 div.sk-parallel {\n",
       "  display: flex;\n",
       "  align-items: stretch;\n",
       "  justify-content: center;\n",
       "  background-color: var(--sklearn-color-background);\n",
       "  position: relative;\n",
       "}\n",
       "\n",
       "#sk-container-id-7 div.sk-parallel-item {\n",
       "  display: flex;\n",
       "  flex-direction: column;\n",
       "}\n",
       "\n",
       "#sk-container-id-7 div.sk-parallel-item:first-child::after {\n",
       "  align-self: flex-end;\n",
       "  width: 50%;\n",
       "}\n",
       "\n",
       "#sk-container-id-7 div.sk-parallel-item:last-child::after {\n",
       "  align-self: flex-start;\n",
       "  width: 50%;\n",
       "}\n",
       "\n",
       "#sk-container-id-7 div.sk-parallel-item:only-child::after {\n",
       "  width: 0;\n",
       "}\n",
       "\n",
       "/* Serial-specific style estimator block */\n",
       "\n",
       "#sk-container-id-7 div.sk-serial {\n",
       "  display: flex;\n",
       "  flex-direction: column;\n",
       "  align-items: center;\n",
       "  background-color: var(--sklearn-color-background);\n",
       "  padding-right: 1em;\n",
       "  padding-left: 1em;\n",
       "}\n",
       "\n",
       "\n",
       "/* Toggleable style: style used for estimator/Pipeline/ColumnTransformer box that is\n",
       "clickable and can be expanded/collapsed.\n",
       "- Pipeline and ColumnTransformer use this feature and define the default style\n",
       "- Estimators will overwrite some part of the style using the `sk-estimator` class\n",
       "*/\n",
       "\n",
       "/* Pipeline and ColumnTransformer style (default) */\n",
       "\n",
       "#sk-container-id-7 div.sk-toggleable {\n",
       "  /* Default theme specific background. It is overwritten whether we have a\n",
       "  specific estimator or a Pipeline/ColumnTransformer */\n",
       "  background-color: var(--sklearn-color-background);\n",
       "}\n",
       "\n",
       "/* Toggleable label */\n",
       "#sk-container-id-7 label.sk-toggleable__label {\n",
       "  cursor: pointer;\n",
       "  display: block;\n",
       "  width: 100%;\n",
       "  margin-bottom: 0;\n",
       "  padding: 0.5em;\n",
       "  box-sizing: border-box;\n",
       "  text-align: center;\n",
       "}\n",
       "\n",
       "#sk-container-id-7 label.sk-toggleable__label-arrow:before {\n",
       "  /* Arrow on the left of the label */\n",
       "  content: \"▸\";\n",
       "  float: left;\n",
       "  margin-right: 0.25em;\n",
       "  color: var(--sklearn-color-icon);\n",
       "}\n",
       "\n",
       "#sk-container-id-7 label.sk-toggleable__label-arrow:hover:before {\n",
       "  color: var(--sklearn-color-text);\n",
       "}\n",
       "\n",
       "/* Toggleable content - dropdown */\n",
       "\n",
       "#sk-container-id-7 div.sk-toggleable__content {\n",
       "  max-height: 0;\n",
       "  max-width: 0;\n",
       "  overflow: hidden;\n",
       "  text-align: left;\n",
       "  /* unfitted */\n",
       "  background-color: var(--sklearn-color-unfitted-level-0);\n",
       "}\n",
       "\n",
       "#sk-container-id-7 div.sk-toggleable__content.fitted {\n",
       "  /* fitted */\n",
       "  background-color: var(--sklearn-color-fitted-level-0);\n",
       "}\n",
       "\n",
       "#sk-container-id-7 div.sk-toggleable__content pre {\n",
       "  margin: 0.2em;\n",
       "  border-radius: 0.25em;\n",
       "  color: var(--sklearn-color-text);\n",
       "  /* unfitted */\n",
       "  background-color: var(--sklearn-color-unfitted-level-0);\n",
       "}\n",
       "\n",
       "#sk-container-id-7 div.sk-toggleable__content.fitted pre {\n",
       "  /* unfitted */\n",
       "  background-color: var(--sklearn-color-fitted-level-0);\n",
       "}\n",
       "\n",
       "#sk-container-id-7 input.sk-toggleable__control:checked~div.sk-toggleable__content {\n",
       "  /* Expand drop-down */\n",
       "  max-height: 200px;\n",
       "  max-width: 100%;\n",
       "  overflow: auto;\n",
       "}\n",
       "\n",
       "#sk-container-id-7 input.sk-toggleable__control:checked~label.sk-toggleable__label-arrow:before {\n",
       "  content: \"▾\";\n",
       "}\n",
       "\n",
       "/* Pipeline/ColumnTransformer-specific style */\n",
       "\n",
       "#sk-container-id-7 div.sk-label input.sk-toggleable__control:checked~label.sk-toggleable__label {\n",
       "  color: var(--sklearn-color-text);\n",
       "  background-color: var(--sklearn-color-unfitted-level-2);\n",
       "}\n",
       "\n",
       "#sk-container-id-7 div.sk-label.fitted input.sk-toggleable__control:checked~label.sk-toggleable__label {\n",
       "  background-color: var(--sklearn-color-fitted-level-2);\n",
       "}\n",
       "\n",
       "/* Estimator-specific style */\n",
       "\n",
       "/* Colorize estimator box */\n",
       "#sk-container-id-7 div.sk-estimator input.sk-toggleable__control:checked~label.sk-toggleable__label {\n",
       "  /* unfitted */\n",
       "  background-color: var(--sklearn-color-unfitted-level-2);\n",
       "}\n",
       "\n",
       "#sk-container-id-7 div.sk-estimator.fitted input.sk-toggleable__control:checked~label.sk-toggleable__label {\n",
       "  /* fitted */\n",
       "  background-color: var(--sklearn-color-fitted-level-2);\n",
       "}\n",
       "\n",
       "#sk-container-id-7 div.sk-label label.sk-toggleable__label,\n",
       "#sk-container-id-7 div.sk-label label {\n",
       "  /* The background is the default theme color */\n",
       "  color: var(--sklearn-color-text-on-default-background);\n",
       "}\n",
       "\n",
       "/* On hover, darken the color of the background */\n",
       "#sk-container-id-7 div.sk-label:hover label.sk-toggleable__label {\n",
       "  color: var(--sklearn-color-text);\n",
       "  background-color: var(--sklearn-color-unfitted-level-2);\n",
       "}\n",
       "\n",
       "/* Label box, darken color on hover, fitted */\n",
       "#sk-container-id-7 div.sk-label.fitted:hover label.sk-toggleable__label.fitted {\n",
       "  color: var(--sklearn-color-text);\n",
       "  background-color: var(--sklearn-color-fitted-level-2);\n",
       "}\n",
       "\n",
       "/* Estimator label */\n",
       "\n",
       "#sk-container-id-7 div.sk-label label {\n",
       "  font-family: monospace;\n",
       "  font-weight: bold;\n",
       "  display: inline-block;\n",
       "  line-height: 1.2em;\n",
       "}\n",
       "\n",
       "#sk-container-id-7 div.sk-label-container {\n",
       "  text-align: center;\n",
       "}\n",
       "\n",
       "/* Estimator-specific */\n",
       "#sk-container-id-7 div.sk-estimator {\n",
       "  font-family: monospace;\n",
       "  border: 1px dotted var(--sklearn-color-border-box);\n",
       "  border-radius: 0.25em;\n",
       "  box-sizing: border-box;\n",
       "  margin-bottom: 0.5em;\n",
       "  /* unfitted */\n",
       "  background-color: var(--sklearn-color-unfitted-level-0);\n",
       "}\n",
       "\n",
       "#sk-container-id-7 div.sk-estimator.fitted {\n",
       "  /* fitted */\n",
       "  background-color: var(--sklearn-color-fitted-level-0);\n",
       "}\n",
       "\n",
       "/* on hover */\n",
       "#sk-container-id-7 div.sk-estimator:hover {\n",
       "  /* unfitted */\n",
       "  background-color: var(--sklearn-color-unfitted-level-2);\n",
       "}\n",
       "\n",
       "#sk-container-id-7 div.sk-estimator.fitted:hover {\n",
       "  /* fitted */\n",
       "  background-color: var(--sklearn-color-fitted-level-2);\n",
       "}\n",
       "\n",
       "/* Specification for estimator info (e.g. \"i\" and \"?\") */\n",
       "\n",
       "/* Common style for \"i\" and \"?\" */\n",
       "\n",
       ".sk-estimator-doc-link,\n",
       "a:link.sk-estimator-doc-link,\n",
       "a:visited.sk-estimator-doc-link {\n",
       "  float: right;\n",
       "  font-size: smaller;\n",
       "  line-height: 1em;\n",
       "  font-family: monospace;\n",
       "  background-color: var(--sklearn-color-background);\n",
       "  border-radius: 1em;\n",
       "  height: 1em;\n",
       "  width: 1em;\n",
       "  text-decoration: none !important;\n",
       "  margin-left: 1ex;\n",
       "  /* unfitted */\n",
       "  border: var(--sklearn-color-unfitted-level-1) 1pt solid;\n",
       "  color: var(--sklearn-color-unfitted-level-1);\n",
       "}\n",
       "\n",
       ".sk-estimator-doc-link.fitted,\n",
       "a:link.sk-estimator-doc-link.fitted,\n",
       "a:visited.sk-estimator-doc-link.fitted {\n",
       "  /* fitted */\n",
       "  border: var(--sklearn-color-fitted-level-1) 1pt solid;\n",
       "  color: var(--sklearn-color-fitted-level-1);\n",
       "}\n",
       "\n",
       "/* On hover */\n",
       "div.sk-estimator:hover .sk-estimator-doc-link:hover,\n",
       ".sk-estimator-doc-link:hover,\n",
       "div.sk-label-container:hover .sk-estimator-doc-link:hover,\n",
       ".sk-estimator-doc-link:hover {\n",
       "  /* unfitted */\n",
       "  background-color: var(--sklearn-color-unfitted-level-3);\n",
       "  color: var(--sklearn-color-background);\n",
       "  text-decoration: none;\n",
       "}\n",
       "\n",
       "div.sk-estimator.fitted:hover .sk-estimator-doc-link.fitted:hover,\n",
       ".sk-estimator-doc-link.fitted:hover,\n",
       "div.sk-label-container:hover .sk-estimator-doc-link.fitted:hover,\n",
       ".sk-estimator-doc-link.fitted:hover {\n",
       "  /* fitted */\n",
       "  background-color: var(--sklearn-color-fitted-level-3);\n",
       "  color: var(--sklearn-color-background);\n",
       "  text-decoration: none;\n",
       "}\n",
       "\n",
       "/* Span, style for the box shown on hovering the info icon */\n",
       ".sk-estimator-doc-link span {\n",
       "  display: none;\n",
       "  z-index: 9999;\n",
       "  position: relative;\n",
       "  font-weight: normal;\n",
       "  right: .2ex;\n",
       "  padding: .5ex;\n",
       "  margin: .5ex;\n",
       "  width: min-content;\n",
       "  min-width: 20ex;\n",
       "  max-width: 50ex;\n",
       "  color: var(--sklearn-color-text);\n",
       "  box-shadow: 2pt 2pt 4pt #999;\n",
       "  /* unfitted */\n",
       "  background: var(--sklearn-color-unfitted-level-0);\n",
       "  border: .5pt solid var(--sklearn-color-unfitted-level-3);\n",
       "}\n",
       "\n",
       ".sk-estimator-doc-link.fitted span {\n",
       "  /* fitted */\n",
       "  background: var(--sklearn-color-fitted-level-0);\n",
       "  border: var(--sklearn-color-fitted-level-3);\n",
       "}\n",
       "\n",
       ".sk-estimator-doc-link:hover span {\n",
       "  display: block;\n",
       "}\n",
       "\n",
       "/* \"?\"-specific style due to the `<a>` HTML tag */\n",
       "\n",
       "#sk-container-id-7 a.estimator_doc_link {\n",
       "  float: right;\n",
       "  font-size: 1rem;\n",
       "  line-height: 1em;\n",
       "  font-family: monospace;\n",
       "  background-color: var(--sklearn-color-background);\n",
       "  border-radius: 1rem;\n",
       "  height: 1rem;\n",
       "  width: 1rem;\n",
       "  text-decoration: none;\n",
       "  /* unfitted */\n",
       "  color: var(--sklearn-color-unfitted-level-1);\n",
       "  border: var(--sklearn-color-unfitted-level-1) 1pt solid;\n",
       "}\n",
       "\n",
       "#sk-container-id-7 a.estimator_doc_link.fitted {\n",
       "  /* fitted */\n",
       "  border: var(--sklearn-color-fitted-level-1) 1pt solid;\n",
       "  color: var(--sklearn-color-fitted-level-1);\n",
       "}\n",
       "\n",
       "/* On hover */\n",
       "#sk-container-id-7 a.estimator_doc_link:hover {\n",
       "  /* unfitted */\n",
       "  background-color: var(--sklearn-color-unfitted-level-3);\n",
       "  color: var(--sklearn-color-background);\n",
       "  text-decoration: none;\n",
       "}\n",
       "\n",
       "#sk-container-id-7 a.estimator_doc_link.fitted:hover {\n",
       "  /* fitted */\n",
       "  background-color: var(--sklearn-color-fitted-level-3);\n",
       "}\n",
       "</style><div id=\"sk-container-id-7\" class=\"sk-top-container\"><div class=\"sk-text-repr-fallback\"><pre>KMeans(n_clusters=15, random_state=666)</pre><b>In a Jupyter environment, please rerun this cell to show the HTML representation or trust the notebook. <br />On GitHub, the HTML representation is unable to render, please try loading this page with nbviewer.org.</b></div><div class=\"sk-container\" hidden><div class=\"sk-item\"><div class=\"sk-estimator fitted sk-toggleable\"><input class=\"sk-toggleable__control sk-hidden--visually\" id=\"sk-estimator-id-7\" type=\"checkbox\" checked><label for=\"sk-estimator-id-7\" class=\"sk-toggleable__label fitted sk-toggleable__label-arrow fitted\">&nbsp;&nbsp;KMeans<a class=\"sk-estimator-doc-link fitted\" rel=\"noreferrer\" target=\"_blank\" href=\"https://scikit-learn.org/1.5/modules/generated/sklearn.cluster.KMeans.html\">?<span>Documentation for KMeans</span></a><span class=\"sk-estimator-doc-link fitted\">i<span>Fitted</span></span></label><div class=\"sk-toggleable__content fitted\"><pre>KMeans(n_clusters=15, random_state=666)</pre></div> </div></div></div></div>"
      ],
      "text/plain": [
       "KMeans(n_clusters=15, random_state=666)"
      ]
     },
     "execution_count": 53,
     "metadata": {},
     "output_type": "execute_result"
    }
   ],
   "source": [
    "num_clusters = 15\n",
    "kmeans = KMeans(n_clusters=num_clusters, random_state=666)\n",
    "kmeans.fit(tfidf_matrix)"
   ]
  },
  {
   "cell_type": "code",
   "execution_count": 54,
   "metadata": {},
   "outputs": [],
   "source": [
    "def recommend_games_kmeans(game_id, df, num_recommendations=5):\n",
    "    game_cluster = df.loc[game_id, 'cluster']\n",
    "    similar_games = df[df['cluster'] == game_cluster]\n",
    "    similar_games = similar_games.drop(index=game_id)\n",
    "\n",
    "    if len(similar_games) > num_recommendations:\n",
    "        similar_games = similar_games.sample(n=num_recommendations, random_state=42)\n",
    "\n",
    "    return similar_games"
   ]
  },
  {
   "cell_type": "code",
   "execution_count": 55,
   "metadata": {},
   "outputs": [],
   "source": [
    "tmp_df = pd.DataFrame({\n",
    "    'AppID': expanded_tags.index,\n",
    "    'cluster': kmeans.labels_\n",
    "})\n",
    "tmp_df.to_csv('../data/kmeans_clusters.csv', index=True)"
   ]
  },
  {
   "cell_type": "code",
   "execution_count": 56,
   "metadata": {},
   "outputs": [],
   "source": [
    "kmeans_clusters = pd.read_csv('../data/kmeans_clusters.csv')"
   ]
  },
  {
   "cell_type": "code",
   "execution_count": 59,
   "metadata": {},
   "outputs": [
    {
     "data": {
      "text/html": [
       "<div>\n",
       "<style scoped>\n",
       "    .dataframe tbody tr th:only-of-type {\n",
       "        vertical-align: middle;\n",
       "    }\n",
       "\n",
       "    .dataframe tbody tr th {\n",
       "        vertical-align: top;\n",
       "    }\n",
       "\n",
       "    .dataframe thead th {\n",
       "        text-align: right;\n",
       "    }\n",
       "</style>\n",
       "<table border=\"1\" class=\"dataframe\">\n",
       "  <thead>\n",
       "    <tr style=\"text-align: right;\">\n",
       "      <th></th>\n",
       "      <th>Unnamed: 0</th>\n",
       "      <th>AppID</th>\n",
       "      <th>cluster</th>\n",
       "    </tr>\n",
       "  </thead>\n",
       "  <tbody>\n",
       "    <tr>\n",
       "      <th>1546</th>\n",
       "      <td>1546</td>\n",
       "      <td>799600</td>\n",
       "      <td>3</td>\n",
       "    </tr>\n",
       "    <tr>\n",
       "      <th>4612</th>\n",
       "      <td>4612</td>\n",
       "      <td>1785820</td>\n",
       "      <td>3</td>\n",
       "    </tr>\n",
       "    <tr>\n",
       "      <th>75743</th>\n",
       "      <td>75743</td>\n",
       "      <td>1433040</td>\n",
       "      <td>3</td>\n",
       "    </tr>\n",
       "    <tr>\n",
       "      <th>5757</th>\n",
       "      <td>5757</td>\n",
       "      <td>1887930</td>\n",
       "      <td>3</td>\n",
       "    </tr>\n",
       "    <tr>\n",
       "      <th>77963</th>\n",
       "      <td>77963</td>\n",
       "      <td>2864800</td>\n",
       "      <td>3</td>\n",
       "    </tr>\n",
       "  </tbody>\n",
       "</table>\n",
       "</div>"
      ],
      "text/plain": [
       "       Unnamed: 0    AppID  cluster\n",
       "1546         1546   799600        3\n",
       "4612         4612  1785820        3\n",
       "75743       75743  1433040        3\n",
       "5757         5757  1887930        3\n",
       "77963       77963  2864800        3"
      ]
     },
     "execution_count": 59,
     "metadata": {},
     "output_type": "execute_result"
    }
   ],
   "source": [
    "recommend_games_kmeans(570, kmeans_clusters, num_recommendations=5)"
   ]
  },
  {
   "cell_type": "code",
   "execution_count": 58,
   "metadata": {},
   "outputs": [
    {
     "name": "stdout",
     "output_type": "stream",
     "text": [
      "Number of items in each cluster:\n",
      "Cluster 1: 9835 items\n",
      "Cluster 3: 2548 items\n",
      "Cluster 0: 14578 items\n",
      "Cluster 8: 2305 items\n",
      "Cluster 14: 3135 items\n",
      "Cluster 5: 6660 items\n",
      "Cluster 4: 13846 items\n",
      "Cluster 9: 4730 items\n",
      "Cluster 6: 2545 items\n",
      "Cluster 13: 5966 items\n",
      "Cluster 12: 5356 items\n",
      "Cluster 11: 1965 items\n",
      "Cluster 2: 4946 items\n",
      "Cluster 10: 2917 items\n",
      "Cluster 7: 2314 items\n"
     ]
    }
   ],
   "source": [
    "from collections import Counter\n",
    "labels = kmeans.labels_\n",
    "\n",
    "# Count items in each cluster\n",
    "counter = Counter(labels)\n",
    "print(\"Number of items in each cluster:\")\n",
    "for cluster, count in counter.items():\n",
    "    print(f\"Cluster {cluster}: {count} items\")\n"
   ]
  },
  {
   "cell_type": "markdown",
   "metadata": {},
   "source": [
    "#### DBSCAN"
   ]
  },
  {
   "cell_type": "code",
   "execution_count": 41,
   "metadata": {},
   "outputs": [],
   "source": [
    "eps = 0.25  # epsilon parameter for DBSCAN\n",
    "min_samples = 5  # minimum number of samples in a neighborhood for a point to be considered as a core point\n",
    "dbscan = DBSCAN(eps=eps, min_samples=5)"
   ]
  },
  {
   "cell_type": "code",
   "execution_count": 42,
   "metadata": {},
   "outputs": [
    {
     "data": {
      "text/html": [
       "<style>#sk-container-id-4 {\n",
       "  /* Definition of color scheme common for light and dark mode */\n",
       "  --sklearn-color-text: black;\n",
       "  --sklearn-color-line: gray;\n",
       "  /* Definition of color scheme for unfitted estimators */\n",
       "  --sklearn-color-unfitted-level-0: #fff5e6;\n",
       "  --sklearn-color-unfitted-level-1: #f6e4d2;\n",
       "  --sklearn-color-unfitted-level-2: #ffe0b3;\n",
       "  --sklearn-color-unfitted-level-3: chocolate;\n",
       "  /* Definition of color scheme for fitted estimators */\n",
       "  --sklearn-color-fitted-level-0: #f0f8ff;\n",
       "  --sklearn-color-fitted-level-1: #d4ebff;\n",
       "  --sklearn-color-fitted-level-2: #b3dbfd;\n",
       "  --sklearn-color-fitted-level-3: cornflowerblue;\n",
       "\n",
       "  /* Specific color for light theme */\n",
       "  --sklearn-color-text-on-default-background: var(--sg-text-color, var(--theme-code-foreground, var(--jp-content-font-color1, black)));\n",
       "  --sklearn-color-background: var(--sg-background-color, var(--theme-background, var(--jp-layout-color0, white)));\n",
       "  --sklearn-color-border-box: var(--sg-text-color, var(--theme-code-foreground, var(--jp-content-font-color1, black)));\n",
       "  --sklearn-color-icon: #696969;\n",
       "\n",
       "  @media (prefers-color-scheme: dark) {\n",
       "    /* Redefinition of color scheme for dark theme */\n",
       "    --sklearn-color-text-on-default-background: var(--sg-text-color, var(--theme-code-foreground, var(--jp-content-font-color1, white)));\n",
       "    --sklearn-color-background: var(--sg-background-color, var(--theme-background, var(--jp-layout-color0, #111)));\n",
       "    --sklearn-color-border-box: var(--sg-text-color, var(--theme-code-foreground, var(--jp-content-font-color1, white)));\n",
       "    --sklearn-color-icon: #878787;\n",
       "  }\n",
       "}\n",
       "\n",
       "#sk-container-id-4 {\n",
       "  color: var(--sklearn-color-text);\n",
       "}\n",
       "\n",
       "#sk-container-id-4 pre {\n",
       "  padding: 0;\n",
       "}\n",
       "\n",
       "#sk-container-id-4 input.sk-hidden--visually {\n",
       "  border: 0;\n",
       "  clip: rect(1px 1px 1px 1px);\n",
       "  clip: rect(1px, 1px, 1px, 1px);\n",
       "  height: 1px;\n",
       "  margin: -1px;\n",
       "  overflow: hidden;\n",
       "  padding: 0;\n",
       "  position: absolute;\n",
       "  width: 1px;\n",
       "}\n",
       "\n",
       "#sk-container-id-4 div.sk-dashed-wrapped {\n",
       "  border: 1px dashed var(--sklearn-color-line);\n",
       "  margin: 0 0.4em 0.5em 0.4em;\n",
       "  box-sizing: border-box;\n",
       "  padding-bottom: 0.4em;\n",
       "  background-color: var(--sklearn-color-background);\n",
       "}\n",
       "\n",
       "#sk-container-id-4 div.sk-container {\n",
       "  /* jupyter's `normalize.less` sets `[hidden] { display: none; }`\n",
       "     but bootstrap.min.css set `[hidden] { display: none !important; }`\n",
       "     so we also need the `!important` here to be able to override the\n",
       "     default hidden behavior on the sphinx rendered scikit-learn.org.\n",
       "     See: https://github.com/scikit-learn/scikit-learn/issues/21755 */\n",
       "  display: inline-block !important;\n",
       "  position: relative;\n",
       "}\n",
       "\n",
       "#sk-container-id-4 div.sk-text-repr-fallback {\n",
       "  display: none;\n",
       "}\n",
       "\n",
       "div.sk-parallel-item,\n",
       "div.sk-serial,\n",
       "div.sk-item {\n",
       "  /* draw centered vertical line to link estimators */\n",
       "  background-image: linear-gradient(var(--sklearn-color-text-on-default-background), var(--sklearn-color-text-on-default-background));\n",
       "  background-size: 2px 100%;\n",
       "  background-repeat: no-repeat;\n",
       "  background-position: center center;\n",
       "}\n",
       "\n",
       "/* Parallel-specific style estimator block */\n",
       "\n",
       "#sk-container-id-4 div.sk-parallel-item::after {\n",
       "  content: \"\";\n",
       "  width: 100%;\n",
       "  border-bottom: 2px solid var(--sklearn-color-text-on-default-background);\n",
       "  flex-grow: 1;\n",
       "}\n",
       "\n",
       "#sk-container-id-4 div.sk-parallel {\n",
       "  display: flex;\n",
       "  align-items: stretch;\n",
       "  justify-content: center;\n",
       "  background-color: var(--sklearn-color-background);\n",
       "  position: relative;\n",
       "}\n",
       "\n",
       "#sk-container-id-4 div.sk-parallel-item {\n",
       "  display: flex;\n",
       "  flex-direction: column;\n",
       "}\n",
       "\n",
       "#sk-container-id-4 div.sk-parallel-item:first-child::after {\n",
       "  align-self: flex-end;\n",
       "  width: 50%;\n",
       "}\n",
       "\n",
       "#sk-container-id-4 div.sk-parallel-item:last-child::after {\n",
       "  align-self: flex-start;\n",
       "  width: 50%;\n",
       "}\n",
       "\n",
       "#sk-container-id-4 div.sk-parallel-item:only-child::after {\n",
       "  width: 0;\n",
       "}\n",
       "\n",
       "/* Serial-specific style estimator block */\n",
       "\n",
       "#sk-container-id-4 div.sk-serial {\n",
       "  display: flex;\n",
       "  flex-direction: column;\n",
       "  align-items: center;\n",
       "  background-color: var(--sklearn-color-background);\n",
       "  padding-right: 1em;\n",
       "  padding-left: 1em;\n",
       "}\n",
       "\n",
       "\n",
       "/* Toggleable style: style used for estimator/Pipeline/ColumnTransformer box that is\n",
       "clickable and can be expanded/collapsed.\n",
       "- Pipeline and ColumnTransformer use this feature and define the default style\n",
       "- Estimators will overwrite some part of the style using the `sk-estimator` class\n",
       "*/\n",
       "\n",
       "/* Pipeline and ColumnTransformer style (default) */\n",
       "\n",
       "#sk-container-id-4 div.sk-toggleable {\n",
       "  /* Default theme specific background. It is overwritten whether we have a\n",
       "  specific estimator or a Pipeline/ColumnTransformer */\n",
       "  background-color: var(--sklearn-color-background);\n",
       "}\n",
       "\n",
       "/* Toggleable label */\n",
       "#sk-container-id-4 label.sk-toggleable__label {\n",
       "  cursor: pointer;\n",
       "  display: block;\n",
       "  width: 100%;\n",
       "  margin-bottom: 0;\n",
       "  padding: 0.5em;\n",
       "  box-sizing: border-box;\n",
       "  text-align: center;\n",
       "}\n",
       "\n",
       "#sk-container-id-4 label.sk-toggleable__label-arrow:before {\n",
       "  /* Arrow on the left of the label */\n",
       "  content: \"▸\";\n",
       "  float: left;\n",
       "  margin-right: 0.25em;\n",
       "  color: var(--sklearn-color-icon);\n",
       "}\n",
       "\n",
       "#sk-container-id-4 label.sk-toggleable__label-arrow:hover:before {\n",
       "  color: var(--sklearn-color-text);\n",
       "}\n",
       "\n",
       "/* Toggleable content - dropdown */\n",
       "\n",
       "#sk-container-id-4 div.sk-toggleable__content {\n",
       "  max-height: 0;\n",
       "  max-width: 0;\n",
       "  overflow: hidden;\n",
       "  text-align: left;\n",
       "  /* unfitted */\n",
       "  background-color: var(--sklearn-color-unfitted-level-0);\n",
       "}\n",
       "\n",
       "#sk-container-id-4 div.sk-toggleable__content.fitted {\n",
       "  /* fitted */\n",
       "  background-color: var(--sklearn-color-fitted-level-0);\n",
       "}\n",
       "\n",
       "#sk-container-id-4 div.sk-toggleable__content pre {\n",
       "  margin: 0.2em;\n",
       "  border-radius: 0.25em;\n",
       "  color: var(--sklearn-color-text);\n",
       "  /* unfitted */\n",
       "  background-color: var(--sklearn-color-unfitted-level-0);\n",
       "}\n",
       "\n",
       "#sk-container-id-4 div.sk-toggleable__content.fitted pre {\n",
       "  /* unfitted */\n",
       "  background-color: var(--sklearn-color-fitted-level-0);\n",
       "}\n",
       "\n",
       "#sk-container-id-4 input.sk-toggleable__control:checked~div.sk-toggleable__content {\n",
       "  /* Expand drop-down */\n",
       "  max-height: 200px;\n",
       "  max-width: 100%;\n",
       "  overflow: auto;\n",
       "}\n",
       "\n",
       "#sk-container-id-4 input.sk-toggleable__control:checked~label.sk-toggleable__label-arrow:before {\n",
       "  content: \"▾\";\n",
       "}\n",
       "\n",
       "/* Pipeline/ColumnTransformer-specific style */\n",
       "\n",
       "#sk-container-id-4 div.sk-label input.sk-toggleable__control:checked~label.sk-toggleable__label {\n",
       "  color: var(--sklearn-color-text);\n",
       "  background-color: var(--sklearn-color-unfitted-level-2);\n",
       "}\n",
       "\n",
       "#sk-container-id-4 div.sk-label.fitted input.sk-toggleable__control:checked~label.sk-toggleable__label {\n",
       "  background-color: var(--sklearn-color-fitted-level-2);\n",
       "}\n",
       "\n",
       "/* Estimator-specific style */\n",
       "\n",
       "/* Colorize estimator box */\n",
       "#sk-container-id-4 div.sk-estimator input.sk-toggleable__control:checked~label.sk-toggleable__label {\n",
       "  /* unfitted */\n",
       "  background-color: var(--sklearn-color-unfitted-level-2);\n",
       "}\n",
       "\n",
       "#sk-container-id-4 div.sk-estimator.fitted input.sk-toggleable__control:checked~label.sk-toggleable__label {\n",
       "  /* fitted */\n",
       "  background-color: var(--sklearn-color-fitted-level-2);\n",
       "}\n",
       "\n",
       "#sk-container-id-4 div.sk-label label.sk-toggleable__label,\n",
       "#sk-container-id-4 div.sk-label label {\n",
       "  /* The background is the default theme color */\n",
       "  color: var(--sklearn-color-text-on-default-background);\n",
       "}\n",
       "\n",
       "/* On hover, darken the color of the background */\n",
       "#sk-container-id-4 div.sk-label:hover label.sk-toggleable__label {\n",
       "  color: var(--sklearn-color-text);\n",
       "  background-color: var(--sklearn-color-unfitted-level-2);\n",
       "}\n",
       "\n",
       "/* Label box, darken color on hover, fitted */\n",
       "#sk-container-id-4 div.sk-label.fitted:hover label.sk-toggleable__label.fitted {\n",
       "  color: var(--sklearn-color-text);\n",
       "  background-color: var(--sklearn-color-fitted-level-2);\n",
       "}\n",
       "\n",
       "/* Estimator label */\n",
       "\n",
       "#sk-container-id-4 div.sk-label label {\n",
       "  font-family: monospace;\n",
       "  font-weight: bold;\n",
       "  display: inline-block;\n",
       "  line-height: 1.2em;\n",
       "}\n",
       "\n",
       "#sk-container-id-4 div.sk-label-container {\n",
       "  text-align: center;\n",
       "}\n",
       "\n",
       "/* Estimator-specific */\n",
       "#sk-container-id-4 div.sk-estimator {\n",
       "  font-family: monospace;\n",
       "  border: 1px dotted var(--sklearn-color-border-box);\n",
       "  border-radius: 0.25em;\n",
       "  box-sizing: border-box;\n",
       "  margin-bottom: 0.5em;\n",
       "  /* unfitted */\n",
       "  background-color: var(--sklearn-color-unfitted-level-0);\n",
       "}\n",
       "\n",
       "#sk-container-id-4 div.sk-estimator.fitted {\n",
       "  /* fitted */\n",
       "  background-color: var(--sklearn-color-fitted-level-0);\n",
       "}\n",
       "\n",
       "/* on hover */\n",
       "#sk-container-id-4 div.sk-estimator:hover {\n",
       "  /* unfitted */\n",
       "  background-color: var(--sklearn-color-unfitted-level-2);\n",
       "}\n",
       "\n",
       "#sk-container-id-4 div.sk-estimator.fitted:hover {\n",
       "  /* fitted */\n",
       "  background-color: var(--sklearn-color-fitted-level-2);\n",
       "}\n",
       "\n",
       "/* Specification for estimator info (e.g. \"i\" and \"?\") */\n",
       "\n",
       "/* Common style for \"i\" and \"?\" */\n",
       "\n",
       ".sk-estimator-doc-link,\n",
       "a:link.sk-estimator-doc-link,\n",
       "a:visited.sk-estimator-doc-link {\n",
       "  float: right;\n",
       "  font-size: smaller;\n",
       "  line-height: 1em;\n",
       "  font-family: monospace;\n",
       "  background-color: var(--sklearn-color-background);\n",
       "  border-radius: 1em;\n",
       "  height: 1em;\n",
       "  width: 1em;\n",
       "  text-decoration: none !important;\n",
       "  margin-left: 1ex;\n",
       "  /* unfitted */\n",
       "  border: var(--sklearn-color-unfitted-level-1) 1pt solid;\n",
       "  color: var(--sklearn-color-unfitted-level-1);\n",
       "}\n",
       "\n",
       ".sk-estimator-doc-link.fitted,\n",
       "a:link.sk-estimator-doc-link.fitted,\n",
       "a:visited.sk-estimator-doc-link.fitted {\n",
       "  /* fitted */\n",
       "  border: var(--sklearn-color-fitted-level-1) 1pt solid;\n",
       "  color: var(--sklearn-color-fitted-level-1);\n",
       "}\n",
       "\n",
       "/* On hover */\n",
       "div.sk-estimator:hover .sk-estimator-doc-link:hover,\n",
       ".sk-estimator-doc-link:hover,\n",
       "div.sk-label-container:hover .sk-estimator-doc-link:hover,\n",
       ".sk-estimator-doc-link:hover {\n",
       "  /* unfitted */\n",
       "  background-color: var(--sklearn-color-unfitted-level-3);\n",
       "  color: var(--sklearn-color-background);\n",
       "  text-decoration: none;\n",
       "}\n",
       "\n",
       "div.sk-estimator.fitted:hover .sk-estimator-doc-link.fitted:hover,\n",
       ".sk-estimator-doc-link.fitted:hover,\n",
       "div.sk-label-container:hover .sk-estimator-doc-link.fitted:hover,\n",
       ".sk-estimator-doc-link.fitted:hover {\n",
       "  /* fitted */\n",
       "  background-color: var(--sklearn-color-fitted-level-3);\n",
       "  color: var(--sklearn-color-background);\n",
       "  text-decoration: none;\n",
       "}\n",
       "\n",
       "/* Span, style for the box shown on hovering the info icon */\n",
       ".sk-estimator-doc-link span {\n",
       "  display: none;\n",
       "  z-index: 9999;\n",
       "  position: relative;\n",
       "  font-weight: normal;\n",
       "  right: .2ex;\n",
       "  padding: .5ex;\n",
       "  margin: .5ex;\n",
       "  width: min-content;\n",
       "  min-width: 20ex;\n",
       "  max-width: 50ex;\n",
       "  color: var(--sklearn-color-text);\n",
       "  box-shadow: 2pt 2pt 4pt #999;\n",
       "  /* unfitted */\n",
       "  background: var(--sklearn-color-unfitted-level-0);\n",
       "  border: .5pt solid var(--sklearn-color-unfitted-level-3);\n",
       "}\n",
       "\n",
       ".sk-estimator-doc-link.fitted span {\n",
       "  /* fitted */\n",
       "  background: var(--sklearn-color-fitted-level-0);\n",
       "  border: var(--sklearn-color-fitted-level-3);\n",
       "}\n",
       "\n",
       ".sk-estimator-doc-link:hover span {\n",
       "  display: block;\n",
       "}\n",
       "\n",
       "/* \"?\"-specific style due to the `<a>` HTML tag */\n",
       "\n",
       "#sk-container-id-4 a.estimator_doc_link {\n",
       "  float: right;\n",
       "  font-size: 1rem;\n",
       "  line-height: 1em;\n",
       "  font-family: monospace;\n",
       "  background-color: var(--sklearn-color-background);\n",
       "  border-radius: 1rem;\n",
       "  height: 1rem;\n",
       "  width: 1rem;\n",
       "  text-decoration: none;\n",
       "  /* unfitted */\n",
       "  color: var(--sklearn-color-unfitted-level-1);\n",
       "  border: var(--sklearn-color-unfitted-level-1) 1pt solid;\n",
       "}\n",
       "\n",
       "#sk-container-id-4 a.estimator_doc_link.fitted {\n",
       "  /* fitted */\n",
       "  border: var(--sklearn-color-fitted-level-1) 1pt solid;\n",
       "  color: var(--sklearn-color-fitted-level-1);\n",
       "}\n",
       "\n",
       "/* On hover */\n",
       "#sk-container-id-4 a.estimator_doc_link:hover {\n",
       "  /* unfitted */\n",
       "  background-color: var(--sklearn-color-unfitted-level-3);\n",
       "  color: var(--sklearn-color-background);\n",
       "  text-decoration: none;\n",
       "}\n",
       "\n",
       "#sk-container-id-4 a.estimator_doc_link.fitted:hover {\n",
       "  /* fitted */\n",
       "  background-color: var(--sklearn-color-fitted-level-3);\n",
       "}\n",
       "</style><div id=\"sk-container-id-4\" class=\"sk-top-container\"><div class=\"sk-text-repr-fallback\"><pre>DBSCAN(eps=0.25)</pre><b>In a Jupyter environment, please rerun this cell to show the HTML representation or trust the notebook. <br />On GitHub, the HTML representation is unable to render, please try loading this page with nbviewer.org.</b></div><div class=\"sk-container\" hidden><div class=\"sk-item\"><div class=\"sk-estimator fitted sk-toggleable\"><input class=\"sk-toggleable__control sk-hidden--visually\" id=\"sk-estimator-id-4\" type=\"checkbox\" checked><label for=\"sk-estimator-id-4\" class=\"sk-toggleable__label fitted sk-toggleable__label-arrow fitted\">&nbsp;&nbsp;DBSCAN<a class=\"sk-estimator-doc-link fitted\" rel=\"noreferrer\" target=\"_blank\" href=\"https://scikit-learn.org/1.5/modules/generated/sklearn.cluster.DBSCAN.html\">?<span>Documentation for DBSCAN</span></a><span class=\"sk-estimator-doc-link fitted\">i<span>Fitted</span></span></label><div class=\"sk-toggleable__content fitted\"><pre>DBSCAN(eps=0.25)</pre></div> </div></div></div></div>"
      ],
      "text/plain": [
       "DBSCAN(eps=0.25)"
      ]
     },
     "execution_count": 42,
     "metadata": {},
     "output_type": "execute_result"
    }
   ],
   "source": [
    "dbscan.fit(expanded_tags_scaled)"
   ]
  },
  {
   "cell_type": "code",
   "execution_count": 44,
   "metadata": {},
   "outputs": [
    {
     "name": "stdout",
     "output_type": "stream",
     "text": [
      "Number of items in each cluster:\n",
      "Cluster -1: 57009 items\n",
      "Cluster 0: 24413 items\n",
      "Cluster 1: 7 items\n",
      "Cluster 36: 5 items\n",
      "Cluster 2: 61 items\n",
      "Cluster 5: 35 items\n",
      "Cluster 3: 299 items\n",
      "Cluster 4: 271 items\n",
      "Cluster 6: 107 items\n",
      "Cluster 7: 389 items\n",
      "Cluster 8: 197 items\n",
      "Cluster 9: 11 items\n",
      "Cluster 10: 18 items\n",
      "Cluster 60: 7 items\n",
      "Cluster 11: 103 items\n",
      "Cluster 12: 11 items\n",
      "Cluster 13: 21 items\n",
      "Cluster 14: 8 items\n",
      "Cluster 37: 5 items\n",
      "Cluster 15: 7 items\n",
      "Cluster 24: 5 items\n",
      "Cluster 16: 26 items\n",
      "Cluster 17: 7 items\n",
      "Cluster 18: 6 items\n",
      "Cluster 19: 15 items\n",
      "Cluster 30: 5 items\n",
      "Cluster 20: 7 items\n",
      "Cluster 31: 7 items\n",
      "Cluster 21: 6 items\n",
      "Cluster 41: 6 items\n",
      "Cluster 22: 11 items\n",
      "Cluster 79: 5 items\n",
      "Cluster 35: 4 items\n",
      "Cluster 23: 6 items\n",
      "Cluster 28: 5 items\n",
      "Cluster 25: 10 items\n",
      "Cluster 57: 5 items\n",
      "Cluster 71: 5 items\n",
      "Cluster 27: 12 items\n",
      "Cluster 26: 22 items\n",
      "Cluster 29: 5 items\n",
      "Cluster 78: 4 items\n",
      "Cluster 34: 6 items\n",
      "Cluster 32: 9 items\n",
      "Cluster 33: 6 items\n",
      "Cluster 38: 9 items\n",
      "Cluster 40: 5 items\n",
      "Cluster 42: 93 items\n",
      "Cluster 39: 5 items\n",
      "Cluster 43: 19 items\n",
      "Cluster 44: 10 items\n",
      "Cluster 45: 24 items\n",
      "Cluster 46: 14 items\n",
      "Cluster 47: 10 items\n",
      "Cluster 48: 55 items\n",
      "Cluster 49: 18 items\n",
      "Cluster 50: 19 items\n",
      "Cluster 51: 9 items\n",
      "Cluster 52: 16 items\n",
      "Cluster 53: 25 items\n",
      "Cluster 54: 6 items\n",
      "Cluster 75: 5 items\n",
      "Cluster 55: 7 items\n",
      "Cluster 56: 6 items\n",
      "Cluster 76: 5 items\n",
      "Cluster 58: 5 items\n",
      "Cluster 59: 7 items\n",
      "Cluster 77: 5 items\n",
      "Cluster 68: 5 items\n",
      "Cluster 74: 8 items\n",
      "Cluster 61: 5 items\n",
      "Cluster 62: 7 items\n",
      "Cluster 69: 6 items\n",
      "Cluster 63: 5 items\n",
      "Cluster 64: 10 items\n",
      "Cluster 65: 5 items\n",
      "Cluster 66: 7 items\n",
      "Cluster 67: 6 items\n",
      "Cluster 70: 5 items\n",
      "Cluster 72: 5 items\n",
      "Cluster 73: 6 items\n"
     ]
    }
   ],
   "source": [
    "labels = dbscan.labels_\n",
    "\n",
    "# Count items in each cluster\n",
    "counter = Counter(labels)\n",
    "print(\"Number of items in each cluster:\")\n",
    "for cluster, count in counter.items():\n",
    "    print(f\"Cluster {cluster}: {count} items\")"
   ]
  },
  {
   "cell_type": "code",
   "execution_count": null,
   "metadata": {},
   "outputs": [],
   "source": [
    "\"\"\"\n",
    "tmp_df = pd.DataFrame({\n",
    "    'AppID': expanded_tags.index,\n",
    "    'cluster': kmeans.labels_\n",
    "})\n",
    "tmp_df.to_csv('data/kmeans_clusters.csv', index=True)\n",
    "\"\"\""
   ]
  },
  {
   "cell_type": "code",
   "execution_count": null,
   "metadata": {},
   "outputs": [
    {
     "name": "stdout",
     "output_type": "stream",
     "text": [
      "-1\n",
      "                                                      tags  cluster\n",
      "AppID                                                              \n",
      "730      {'FPS': 90076, 'Shooter': 64786, 'Multiplayer'...       -1\n",
      "578080   {'Survival': 14611, 'Shooter': 12477, 'Battle ...       -1\n",
      "570      {'Free to Play': 59559, 'MOBA': 19966, 'Multip...       -1\n",
      "271590   {'Open World': 31998, 'Action': 23177, 'Multip...       -1\n",
      "359550   {'FPS': 9689, 'PvP': 9073, 'e-sports': 9026, '...       -1\n",
      "...                                                    ...      ...\n",
      "2431940  {'Rogue-like': 94, 'Indie': 89, 'Pixel Graphic...       -1\n",
      "1745960  {'Strategy': 72, 'Casual': 48, 'PvE': 47, 'Sin...       -1\n",
      "1888920  {'Indie': 31, 'Strategy': 21, 'Puzzle': 11, 'M...       -1\n",
      "2166420  {'Puzzle': 54, 'Colorful': 46, 'Relaxing': 44,...       -1\n",
      "1456260  {'Top-Down Shooter': 138, 'Rogue-lite': 132, '...       -1\n",
      "\n",
      "[51434 rows x 2 columns]\n"
     ]
    }
   ],
   "source": [
    "game_cluster = train_data_tags.loc[570, 'cluster']\n",
    "print(game_cluster)\n",
    "similar_games = train_data_tags[train_data_tags['cluster'] == game_cluster]\n",
    "print(similar_games)"
   ]
  },
  {
   "cell_type": "code",
   "execution_count": null,
   "metadata": {},
   "outputs": [
    {
     "name": "stdout",
     "output_type": "stream",
     "text": [
      "Cluster 0: Index([2357570, 2514940, 2718080, 2073850, 1625450], dtype='int64', name='AppID')\n",
      "Cluster 1: Index([1437880, 1437830, 1437840, 1437820, 1437860], dtype='int64', name='AppID')\n",
      "Cluster 2: Index([211070, 700920, 1172500, 887740, 328890], dtype='int64', name='AppID')\n"
     ]
    }
   ],
   "source": [
    "for cluster_id in range(3):\n",
    "    cluster_games = train_data_tags[train_data_tags['cluster'] == cluster_id].index\n",
    "    print(f'Cluster {cluster_id}: {cluster_games[:5]}')  # Print first 5 games in each cluster"
   ]
  },
  {
   "cell_type": "code",
   "execution_count": null,
   "metadata": {},
   "outputs": [],
   "source": []
  }
 ],
 "metadata": {
  "kernelspec": {
   "display_name": "base",
   "language": "python",
   "name": "python3"
  },
  "language_info": {
   "codemirror_mode": {
    "name": "ipython",
    "version": 3
   },
   "file_extension": ".py",
   "mimetype": "text/x-python",
   "name": "python",
   "nbconvert_exporter": "python",
   "pygments_lexer": "ipython3",
   "version": "3.12.2"
  }
 },
 "nbformat": 4,
 "nbformat_minor": 2
}
